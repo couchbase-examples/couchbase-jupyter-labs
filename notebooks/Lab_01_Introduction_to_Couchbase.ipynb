{
 "cells": [
  {
   "cell_type": "markdown",
   "id": "3fc8f1f1-bb01-4743-aca7-18faa70e2c26",
   "metadata": {
    "tags": []
   },
   "source": [
    "## Setting up Couchbase Cluster\n",
    "- Create a cluster by going to the [Web Console](http://localhost:8091/) and selecting `Setup New Cluster`.\n",
    "\n",
    "![image](./img/CouchbaseStartup.png)\n",
    "\n",
    "- Create a Cluster name, username & password for the database user like `Training`, `Administrator` & `Password`\n",
    "\n",
    "![image](./img/SetupCluster.png)\n",
    "\n",
    "- Configure the cluster. You need not change the defaults in the configuration.\n",
    "\n",
    "### Note\n",
    "In case you are running out of resources to run the server, you can disable the Analytics Service, reduce the memory requirements for the other services until it runs on your machine.\n",
    "\n",
    "![image](./img/ConfigureServices.png)\n",
    "\n"
   ]
  },
  {
   "cell_type": "markdown",
   "id": "7b71d055-e1cd-4552-b7ab-3c0687009210",
   "metadata": {},
   "source": [
    "## Import Travel Sample Bucket \n",
    "For the purpose of this training, we will work with one of the sample buckets provided by Couchbase, `travel-sample`. \n",
    "\n",
    "You  can import it by going to the Settings Tab & clicking on `Sample Buckets`.\n",
    "\n",
    "![image](img/ImportData.png)\n"
   ]
  },
  {
   "cell_type": "markdown",
   "id": "ff8c0552-c300-49fa-a398-ff24a9fabf67",
   "metadata": {},
   "source": [
    "## Tour of Couchbase Web Console\n",
    "### Dashboard\n",
    "\n",
    "The Dashboard gives a real-time sense of the cluster's activity and performance.\n",
    "\n",
    "At this point, the graphs shouldn't show much activity, since we haven't sent any requests into the database yet.\n",
    "\n",
    "![image](./img/Dashboard.png)\n",
    "\n",
    "### Servers \n",
    "\n",
    "On the Servers screen, you can see that we have only a single server (127.0.0.1) in the cluster in this playground installation.\n",
    "\n",
    "The Servers screen is where you can add and remove servers from the cluster. It also specifies the services running on the cluster and their resource usage.\n",
    "\n",
    "![image](./img/Servers.png)\n",
    "\n"
   ]
  },
  {
   "cell_type": "markdown",
   "id": "3f8483bc-5730-42e9-aa3b-2b0b8fedea34",
   "metadata": {},
   "source": [
    "## Buckets, Scopes & Collections\n",
    "### Buckets\n",
    "Couchbase Server keeps data in Buckets.\n",
    "\n",
    "Buckets store data persistently, as well as in memory. They allow data to be automatically replicated for high availability, using the Database Change Protocol (DCP); and dynamically scaled across multiple clusters, by means of Cross Datacenter Replication (XDCR).\n",
    "\n",
    "![image](./img/Buckets.png)\n",
    "\n",
    "### Scopes & Collections\n",
    "They allow documents to be categorized and organized, within a bucket. \n",
    "\n",
    "A bucket holds containers called scopes, which in turn holds containers called collections, which in turn holds JSON documents.\n",
    "\n",
    "A collection is a data container, defined on Couchbase Server, within a bucket. Up to 1000 collections can be created per cluster. Item-names must be unique within their collection. Items can optionally be assigned to different collections according to content-type. For example, within a bucket that contains travel information, documents that relate specifically to airports might be assigned to an airports collection, while documents that relate to hotels might be assigned to a hotels collection, and so on. Applications can be assigned per-collection access-rights; allowing each application to access only those collections it requires.\n",
    "\n",
    "A scope is a mechanism for the grouping of multiple collections. Up to 1000 scopes can be created per cluster. Collection-names must be unique within their scope. Collections might be assigned to different scopes according to content-type, or to deployment-phase (ie, test versus production). Applications can be assigned per-scope access-rights; allowing each application to access only those scopes it requires.\n",
    "\n",
    "![image](./img/Scopes_and_Collections.png)\n",
    "\n",
    "### Documents\n",
    "Documents are data points stored in Couchbase. They consist of a key by which the item is referenced; and an associated value, which must be either binary or a JSON document. The values can be upto 20MB in size.\n",
    "\n",
    "In the Documents Workbench screen, you can find and modify your JSON documents.\n",
    "\n",
    "The Keyspace control lets you examine the documents in a specific bucket/scope/collection.\n",
    "\n",
    "![image](./img/Documents.png)"
   ]
  },
  {
   "cell_type": "markdown",
   "id": "d524ecf7-1b20-4c3b-ab9e-2737664dd918",
   "metadata": {},
   "source": [
    "## Mapping of Couchbase Concepts with Relational Database Concepts\n",
    "The concepts in Couchbase can be mapped to the Relational Database concepts that you might already be familiar with.\n",
    "\n",
    "![SQL-To-Couchbase Mapping](./img/SQL_To_Couchbase.png)"
   ]
  },
  {
   "cell_type": "markdown",
   "id": "75859528-9bd8-4e5d-8241-fbdb09ff28ee",
   "metadata": {},
   "source": [
    "## Query Workbench\n",
    "Query Workbench is an interface that supports the querying of data by means of the N1QL query language. It utilizes the Query Service which depends on the Index & Data Services.\n",
    "\n",
    "The Query Workbench has a Query Editor, where you can edit and execute N1QL queries (i.e., SQL for JSON).\n",
    "\n",
    "![image](./img/Query_Workbench.png)"
   ]
  },
  {
   "cell_type": "markdown",
   "id": "93020aa6-d381-4bef-97e0-1f521e2118d0",
   "metadata": {},
   "source": [
    "## Indexes\n",
    "\n",
    "Indexes lists all the indexes defined in Couchbase. They help with improving the performance of queries.\n",
    "\n",
    "It is important to note that in the absence of Indexes, you cannot perform any N1QL Queries on the data stored in Couchbase. For the `travel-sample` data, we have the indexes created when we import the data. However if you are working with your data, you need to ensure that you have the indexes required to access the data. We will cover this in Lab 03.\n",
    "\n",
    "![image](./img/Indexing.png)"
   ]
  },
  {
   "cell_type": "markdown",
   "id": "e254e806-0a36-4d17-9d13-6a7b47e1d7ae",
   "metadata": {},
   "source": [
    "## Python SDK\n",
    "In this course, we will be accessing Couchbase using the Python SDK.\n",
    "\n",
    "The Couchbase Python SDK allows Python applications to access a Couchbase cluster. The Python SDK uses the high-performance C library libcouchbase to handle communicating to the cluster over Couchbase’s binary protocols.\n",
    "\n",
    "### Installation\n",
    "`python3 -m pip install couchbase`\n",
    "\n"
   ]
  },
  {
   "cell_type": "markdown",
   "id": "e010ede8-b979-4ac5-bf58-8eeabc268568",
   "metadata": {},
   "source": [
    "## Running the Code Samples\n",
    "- You can run each of the cells one by one (Press Ctrl+Run or Click on Run button in the menu) and observe the outputs. \n",
    "- If you face any problems with the samples, it is most likely due to the overwriting of some variables in the Notebook. You can fix it by running the cell that contains the variable that is missing. Or run the notebook from the beginning.\n",
    "- Feel free to explore by changing the options and/or queries. "
   ]
  },
  {
   "cell_type": "markdown",
   "id": "0706ae4d-a8bc-4b86-ba49-cb36b63f7ed5",
   "metadata": {},
   "source": [
    "### Connecting to Couchbase Cluster\n",
    "- Connection String: `couchbase://couchbase` would connect to the Couchbase instance running in the docker environment via Docker Compose.\n",
    "- PasswordAuthenticator: It specifies the username & password used to access the Cluster.\n",
    "\n",
    "#### Note\n",
    "If you are running Couchbase locally on your machine via docker or installation, you can change the connection string to `couchbase://localhost`"
   ]
  },
  {
   "cell_type": "code",
   "execution_count": null,
   "id": "de1d7c72-d151-4c4b-906e-9d8cfcaf0452",
   "metadata": {},
   "outputs": [],
   "source": [
    "from couchbase.auth import PasswordAuthenticator\n",
    "\n",
    "# needed to support SQL++ (N1QL) query\n",
    "from couchbase.cluster import Cluster, ClusterOptions, QueryOptions\n",
    "\n",
    "# get a reference to our cluster\n",
    "cluster = Cluster(\n",
    "    \"couchbase://couchbase\",\n",
    "    ClusterOptions(PasswordAuthenticator(\"Administrator\", \"Password\")),\n",
    ")"
   ]
  },
  {
   "cell_type": "markdown",
   "id": "d18b05dd-378d-4ec9-a7f0-7a91cb46a641",
   "metadata": {},
   "source": [
    "### Accessing a Bucket within Cluster"
   ]
  },
  {
   "cell_type": "code",
   "execution_count": null,
   "id": "f01b9e4f-c402-4dfa-8e49-2cab80601ac9",
   "metadata": {
    "tags": []
   },
   "outputs": [],
   "source": [
    "# get a reference to our bucket\n",
    "cb = cluster.bucket(\"travel-sample\")"
   ]
  },
  {
   "cell_type": "markdown",
   "id": "0635cbad-fb49-4f6a-b4fe-5b275c06c541",
   "metadata": {},
   "source": [
    "### Accessing the Collection within a Bucket"
   ]
  },
  {
   "cell_type": "code",
   "execution_count": null,
   "id": "b840f679-b826-4f06-8a16-fa0e78cb4e82",
   "metadata": {
    "tags": []
   },
   "outputs": [],
   "source": [
    "cb_coll = cb.scope(\"inventory\").collection(\"airline\")"
   ]
  },
  {
   "cell_type": "markdown",
   "id": "4008a367-cb46-430b-9b03-726fdac01d0b",
   "metadata": {},
   "source": [
    "### Reading Data using Queries\n",
    "The queries are run using the Cluster object"
   ]
  },
  {
   "cell_type": "code",
   "execution_count": null,
   "id": "a0f698dc-3ec7-4958-9859-6697d45b56cd",
   "metadata": {
    "tags": []
   },
   "outputs": [],
   "source": [
    "n1ql_query = \"SELECT * from `travel-sample`.inventory.airline LIMIT 10\"\n",
    "query_results = cluster.query(n1ql_query)"
   ]
  },
  {
   "cell_type": "code",
   "execution_count": null,
   "id": "003e79b7-2399-414d-9c8e-5e2d46819a10",
   "metadata": {
    "tags": []
   },
   "outputs": [],
   "source": [
    "# process the results from the query\n",
    "for result in query_results:\n",
    "    print(result)"
   ]
  },
  {
   "cell_type": "markdown",
   "id": "57e8eec7-c4c8-45b9-a425-54ff5b8d6e67",
   "metadata": {},
   "source": [
    "### Data Models"
   ]
  },
  {
   "cell_type": "code",
   "execution_count": null,
   "id": "b853fed4-32c2-41a8-abdc-242e9cc6a1b7",
   "metadata": {},
   "outputs": [],
   "source": [
    "# Pretty Printing\n",
    "import pprint\n",
    "\n",
    "pp = pprint.PrettyPrinter(indent=4, depth=6)"
   ]
  },
  {
   "cell_type": "code",
   "execution_count": null,
   "id": "5f8bb98c-6dbb-430e-8a9f-efcdecf27eab",
   "metadata": {},
   "outputs": [],
   "source": [
    "# Airlines\n",
    "n1ql_query = \"SELECT * from `travel-sample`.inventory.airline LIMIT 1\"\n",
    "query_results = cluster.query(n1ql_query)\n",
    "result = list(query_results)\n",
    "pp.pprint(result[0])"
   ]
  },
  {
   "cell_type": "code",
   "execution_count": null,
   "id": "734ce688-fe27-4950-a6bc-63b8367f7cdc",
   "metadata": {},
   "outputs": [],
   "source": [
    "# Airports\n",
    "n1ql_query = \"SELECT * from `travel-sample`.inventory.airport LIMIT 1\"\n",
    "query_results = cluster.query(n1ql_query)\n",
    "result = list(query_results)\n",
    "pp.pprint(result[0])"
   ]
  },
  {
   "cell_type": "code",
   "execution_count": null,
   "id": "3fc42394-3f10-4a61-bd7f-f4bccd0f7ce3",
   "metadata": {},
   "outputs": [],
   "source": [
    "# Hotels\n",
    "n1ql_query = \"SELECT * from `travel-sample`.inventory.hotel LIMIT 1\"\n",
    "query_results = cluster.query(n1ql_query)\n",
    "result = list(query_results)\n",
    "pp.pprint(result[0])"
   ]
  },
  {
   "cell_type": "markdown",
   "id": "7010cd6b-7644-424c-8da1-2b5248d49b6f",
   "metadata": {},
   "source": [
    "## Exercise 1.1\n",
    "Examine the data models for \n",
    "- landmarks\n",
    "- routes"
   ]
  },
  {
   "cell_type": "code",
   "execution_count": null,
   "id": "841d2264-75da-4940-881f-7b8cd567c2b7",
   "metadata": {},
   "outputs": [],
   "source": [
    "# Landmarks"
   ]
  },
  {
   "cell_type": "code",
   "execution_count": null,
   "id": "386b6ec9-2b7f-4d92-b706-826b9109d5db",
   "metadata": {
    "tags": []
   },
   "outputs": [],
   "source": [
    "# Routes"
   ]
  },
  {
   "cell_type": "markdown",
   "id": "6a9be44a-4a58-4678-8e9c-4ddc7cf27190",
   "metadata": {},
   "source": [
    "## References\n",
    "- [Overview of Couchbase](https://docs.couchbase.com/server/current/learn/architecture-overview.html)\n",
    "- [Introduction to the Couchbase Python SDK](https://docs.couchbase.com/python-sdk/current/hello-world/overview.html)"
   ]
  }
 ],
 "metadata": {
  "kernelspec": {
   "display_name": "Python 3",
   "language": "python",
   "name": "python3"
  },
  "language_info": {
   "codemirror_mode": {
    "name": "ipython",
    "version": 3
   },
   "file_extension": ".py",
   "mimetype": "text/x-python",
   "name": "python",
   "nbconvert_exporter": "python",
   "pygments_lexer": "ipython3",
   "version": "3.9.6"
  }
 },
 "nbformat": 4,
 "nbformat_minor": 5
}
