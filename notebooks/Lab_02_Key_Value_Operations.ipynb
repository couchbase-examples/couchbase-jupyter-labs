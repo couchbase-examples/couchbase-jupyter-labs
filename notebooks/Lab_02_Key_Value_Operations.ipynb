{
 "cells": [
  {
   "cell_type": "markdown",
   "id": "0ead5714-1a85-4204-aae7-574d742c1e7f",
   "metadata": {},
   "source": [
    "## Key Value Operations\n",
    "While Couchbase is a document database, at its heart is a distributed key-value (KV) store.\n",
    "A KV store is an extremely simple, schema-less approach to data management that, as\n",
    "the name implies, stores a unique ID (key) together with a piece of arbitrary information\n",
    "(value); it may be thought of as a hash map or dictionary. The KV store itself can accept\n",
    "any data, whether it be a binary blob or a JSON document, and Couchbase features such\n",
    "as SQL++(formerly N1QL) make use of the KV store’s ability to process JSON documents.\n",
    "\n",
    "Due to their simplicity, KV operations execute with extremely low latency, often sub-\n",
    "millisecond. The KV store is accessed using simple CRUD (Create, Read, Update, Delete)\n",
    "APIs, and provide the simplest interface when accessing documents using their IDs.\n",
    "The KV store contains the authoritative, most up-to-date state for each item. Query, and\n",
    "other services, provide eventually consistent indexes, but querying the KV store directly\n",
    "will always access the latest version of data. Applications use the KV store when speed,\n",
    "consistency, and simplified access patterns are preferred over flexible query options.\n",
    "All KV operations are atomic, which means that Read and Update are individual operations.\n",
    "\n",
    "In order to avoid conflicts that might arise with multiple concurrent updates to the same document, applications may make use of Compare-And-Swap (CAS), which is a per document checksum that Couchbase modifies each time a document is changed. We will see more on CAS in a later section.\n",
    "\n",
    "Key Value (KV) or data service offers the simplest way to retrieve or mutate data where the key is known. Here we cover CRUD operations, document expiration, and optimistic locking with CAS."
   ]
  },
  {
   "cell_type": "markdown",
   "id": "5cac3803-22b6-469b-8c6e-16e46737b40e",
   "metadata": {
    "tags": []
   },
   "source": [
    "### Configuring the Couchbase Cluster Information for Examples\n",
    "\n",
    "The configuration is stored in an environment file, `.env` in this folder. \n",
    "\n",
    "Note that you might have to check for hidden files to see this file on Unix environments.\n",
    "\n",
    "This file can be used to update the connection settings.\n",
    "* DB_HOST: Set to `couchbase://couchbase` by default for connecting to the Couchbase cluster in the docker environment via Docker Compose. If you are running Couchbase locally on your machine via docker or installation, you can change the connection string to `couchbase://localhost`.\n",
    "* DB_USER: Set to `Administrator` by default. If it is different for your cluster, please update the file.\n",
    "* DB_PASSWORD: Set to `Password` by default. If it is different for your cluster, please update the file.\n"
   ]
  },
  {
   "cell_type": "code",
   "execution_count": null,
   "id": "2d61586b-ad5f-43c8-8d57-a3f8acd48592",
   "metadata": {},
   "outputs": [],
   "source": [
    "# Read the Database information from .env file\n",
    "from dotenv import load_dotenv\n",
    "import os\n",
    "\n",
    "load_dotenv()  # take environment variables from .env file."
   ]
  },
  {
   "cell_type": "code",
   "execution_count": null,
   "id": "9a929b8d-02d0-48bf-b09f-a945e55f27b0",
   "metadata": {
    "tags": []
   },
   "outputs": [],
   "source": [
    "DB_HOST = os.getenv(\"DB_HOST\")\n",
    "DB_USER = os.getenv(\"DB_USER\")\n",
    "DB_PASSWORD = os.getenv(\"DB_PASSWORD\")\n",
    "print(f\"Environment Settings \\n{DB_HOST=} \\n{DB_USER=} \\n{DB_PASSWORD=}\")"
   ]
  },
  {
   "cell_type": "markdown",
   "id": "16ed72b3-ad5f-4bbc-bfad-1df1ecab4861",
   "metadata": {
    "tags": []
   },
   "source": [
    "### Connecting to Couchbase Cluster\n",
    "- Connection String: `couchbase://couchbase` would connect to the Couchbase instance.\n",
    "- PasswordAuthenticator: It specifies the username & password used to access the Cluster.\n",
    "\n",
    "#### Note\n",
    "If you are running Couchbase locally on your machine via docker or installation, you can change the connection string to `couchbase://localhost` via the configuration file `.env`"
   ]
  },
  {
   "cell_type": "code",
   "execution_count": null,
   "id": "ace7c395-edd0-423f-b809-2fca32f24805",
   "metadata": {},
   "outputs": [],
   "source": [
    "from couchbase.auth import PasswordAuthenticator\n",
    "\n",
    "# needed to support SQL++ (N1QL) query\n",
    "from couchbase.cluster import Cluster\n",
    "from couchbase.options import ClusterOptions, QueryOptions\n",
    "\n",
    "# get a reference to our cluster\n",
    "cluster = Cluster(DB_HOST, ClusterOptions(PasswordAuthenticator(DB_USER, DB_PASSWORD)))"
   ]
  },
  {
   "cell_type": "markdown",
   "id": "4f5cc10c-3cf2-4cb3-a3b3-b13ee2cdddc5",
   "metadata": {},
   "source": [
    "## Create a New Bucket in Couchbase\n",
    "Go to Buckets Menu & Select `Add Bucket` on the Right.\n",
    "\n",
    "![image](./img/Create_Bucket.png)\n",
    "\n",
    "Note: In case creating the Bucket fails, try to allocate lower amounts of memory like 128MiB. \n",
    "\n",
    "### Bucket Types\n",
    "- Couchbase buckets: These store data persistently, as well as in memory. They allow data to be automatically replicated for high availability, using the Database Change Protocol (DCP); and dynamically scaled across multiple clusters, by means of Cross Datacenter Replication (XDCR).\n",
    "- Ephemeral buckets: These are an alternative to Couchbase buckets, to be used whenever persistence is not required: for example, when repeated disk-access involves too much overhead. This allows highly consistent in-memory performance, without disk-based fluctuations. It also allows faster node rebalances and restarts.\n",
    "- Memcached buckets: These are now deprecated. Memcached buckets are designed to be used alongside other database platforms, such as ones employing relational database technology. By caching frequently-used data, Memcached buckets reduce the number of queries a database-server must perform. Each Memcached bucket provides a directly addressable, distributed, in-memory key-value cache.\n",
    "\n"
   ]
  },
  {
   "cell_type": "code",
   "execution_count": null,
   "id": "331075b2-bc1e-4b82-977a-2fd70b86a126",
   "metadata": {},
   "outputs": [],
   "source": [
    "# get a reference to our bucket\n",
    "cb = cluster.bucket(\"KV_Testing\")"
   ]
  },
  {
   "cell_type": "code",
   "execution_count": null,
   "id": "66fad9dd-aaff-4c0b-a1c3-cfc4d4f11b7d",
   "metadata": {},
   "outputs": [],
   "source": [
    "# By default, there is an _default scope & collection in each bucket\n",
    "cb_coll = cb.scope(\"_default\").collection(\"_default\")"
   ]
  },
  {
   "cell_type": "markdown",
   "id": "af075a20-81c5-4706-b386-f8fd1170aca5",
   "metadata": {},
   "source": [
    "## Insert Document"
   ]
  },
  {
   "cell_type": "code",
   "execution_count": null,
   "id": "9d346cd1-64a9-4d5a-ac68-8981b6b160da",
   "metadata": {},
   "outputs": [],
   "source": [
    "document = {\"foo\": \"bar\", \"bar\": \"foo\"}\n",
    "try:\n",
    "    result = cb_coll.insert(\"document-key\", document)\n",
    "    cas = result.cas\n",
    "    print(cas)\n",
    "except Exception as e:\n",
    "    print(e)"
   ]
  },
  {
   "cell_type": "markdown",
   "id": "4efb499a-2f51-4976-a24d-060c280f4099",
   "metadata": {},
   "source": [
    "Now let us verify that the document exists in the bucket by going to the web console & checking the documents\n",
    "![Check-Documents](./img/Check_Document.png)"
   ]
  },
  {
   "cell_type": "markdown",
   "id": "9c3f9335-00da-4660-8480-4b8c1a7ea3e3",
   "metadata": {},
   "source": [
    "## Fetch Document"
   ]
  },
  {
   "cell_type": "code",
   "execution_count": null,
   "id": "322e147e-1684-4318-8409-52c07e655f4c",
   "metadata": {},
   "outputs": [],
   "source": [
    "result = cb_coll.get(\"document-key\")\n",
    "doc = result.content_as[dict]\n",
    "print(doc)"
   ]
  },
  {
   "cell_type": "markdown",
   "id": "8c21a27d-ab66-4f0a-ae64-079df490e418",
   "metadata": {},
   "source": [
    "## Upsert Document\n",
    "An upsert operation inserts the document into a collection if they do not already exist, or updates them if they do."
   ]
  },
  {
   "cell_type": "code",
   "execution_count": null,
   "id": "511773d7-a4c7-4e3b-b260-340d7b97a0e5",
   "metadata": {},
   "outputs": [],
   "source": [
    "content = {\"foobar\": \"barfoo\"}\n",
    "result = cb_coll.upsert(\"document-key\", content)\n",
    "\n",
    "updated_doc = cb_coll.get(\"document-key\")\n",
    "upserted_doc = updated_doc.content_as[dict]\n",
    "print(f\"Upserted Document: {upserted_doc}\")"
   ]
  },
  {
   "cell_type": "code",
   "execution_count": null,
   "id": "ef67dec6-363d-4b24-86af-c15f29562b56",
   "metadata": {},
   "outputs": [],
   "source": [
    "document = {\"foo\": \"bar\", \"bar\": \"foo\"}\n",
    "result = cb_coll.upsert(\"document-key-1\", document)\n",
    "\n",
    "# fetch the new document\n",
    "inserted_doc = cb_coll.get(\"document-key-1\")\n",
    "upserted_doc = inserted_doc.content_as[dict]\n",
    "print(f\"Upserted Document: {upserted_doc}\")"
   ]
  },
  {
   "cell_type": "markdown",
   "id": "61877cf2-e7a3-4287-b4a4-0166ee1b90f1",
   "metadata": {},
   "source": [
    "## Remove Document"
   ]
  },
  {
   "cell_type": "code",
   "execution_count": null,
   "id": "af18a4cd-cb3f-490b-a2f8-0a4ae4241662",
   "metadata": {},
   "outputs": [],
   "source": [
    "# Remove document with document-key-1\n",
    "try:\n",
    "    result = cb_coll.remove(\"document-key-1\")\n",
    "except Exception as e:\n",
    "    print(e)"
   ]
  },
  {
   "cell_type": "code",
   "execution_count": null,
   "id": "9cb6696b-17ec-4dde-b3c0-44b9584a4494",
   "metadata": {},
   "outputs": [],
   "source": [
    "try:\n",
    "    result = cb_coll.get(\"document-key-1\")\n",
    "except Exception as e:\n",
    "    print(e)"
   ]
  },
  {
   "cell_type": "markdown",
   "id": "7647d48f-4fbf-414e-b763-4fa73178db9d",
   "metadata": {},
   "source": [
    "## Replace Document"
   ]
  },
  {
   "cell_type": "code",
   "execution_count": null,
   "id": "a959c0db-4535-41e8-98dc-6140185b89be",
   "metadata": {},
   "outputs": [],
   "source": [
    "result = cb_coll.get(\"document-key\")\n",
    "print(f\"Document Before Replace: {result.content_as[dict]}\")\n",
    "\n",
    "document = {\"foo\": \"bar\", \"bar\": \"foo\"}\n",
    "result = cb_coll.replace(\"document-key\", document)\n",
    "\n",
    "result = cb_coll.get(\"document-key\")\n",
    "print(f\"Document After Replace: {result.content_as[dict]}\")"
   ]
  },
  {
   "cell_type": "markdown",
   "id": "de51e549-890e-4545-a1b8-a7e99be5a5c1",
   "metadata": {},
   "source": [
    "## Compare and Swap (CAS) Value\n",
    "The CAS is a value representing the current state of an item. Each time the item is modified, its CAS changes.\n",
    "\n",
    "The CAS value itself is returned as part of a document’s metadata whenever a document is accessed. In the SDK, this is presented as the cas field in the result object from any operation which executes successfully.\n",
    "\n",
    "CAS is an acronym for Compare And Swap, and is a form of optimistic locking. The CAS can be supplied as parameters to the replace and remove operations. When applications provide the CAS, server will check the application-provided version of CAS against the CAS of the document on the server:\n",
    "\n",
    "- If the two CAS values match (they compare successfully), then the mutation operation succeeds.\n",
    "\n",
    "- If the two CAS values differ, then the mutation operation fails."
   ]
  },
  {
   "cell_type": "markdown",
   "id": "6d2ebcd1-88c3-4758-bf31-5cb0bf7d509e",
   "metadata": {},
   "source": [
    "### Durability\n",
    "Writes in Couchbase are written to a single node, and from there the Couchbase Server will take care of sending that mutation to any configured replicas. The optional durability parameter, which all mutating operations accept, allows the application to wait until this replication (or persistence) is successful before proceeding.\n",
    "\n",
    "The SDK exposes three durability levels:\n",
    "\n",
    "- Majority - The server will ensure that the change is available in memory on the majority of configured replicas.\n",
    "\n",
    "- MajorityAndPersistToActive - Majority level, plus persisted to disk on the active node.\n",
    "\n",
    "- PersistToMajority - Majority level, plus persisted to disk on the majority of configured replicas.\n",
    "\n",
    "The options are in increasing levels of safety. Note that nothing comes for free - for a given node, waiting for writes to storage is considerably slower than waiting for it to be available in-memory. "
   ]
  },
  {
   "cell_type": "code",
   "execution_count": null,
   "id": "28e807de-8505-487c-b1c4-2f98ac1d1273",
   "metadata": {},
   "outputs": [],
   "source": [
    "# Upsert with Durability level Majority\n",
    "# The tradeoffs associated with durability levels may not be apparent in this example\n",
    "# since we are using a single node cluster, but become much more clear on multi-node clusters\n",
    "# The error is due to the single node setup\n",
    "from couchbase.options import UpsertOptions\n",
    "from couchbase.durability import Durability, ServerDurability\n",
    "\n",
    "document = dict(foo=\"bar\", bar=\"foo\")\n",
    "opts = UpsertOptions(durability=ServerDurability(Durability.MAJORITY))\n",
    "try:\n",
    "    result = cb_coll.upsert(\"document-key\", document, opts)\n",
    "except Exception as e:\n",
    "    print(e)"
   ]
  },
  {
   "cell_type": "markdown",
   "id": "c3935a4e-0667-40c4-b62f-b5f170fef74d",
   "metadata": {},
   "source": [
    "## Document Expiration\n",
    "In Couchbase, documents can be set to expire after a specified amount of time. They can be specified at the time of creating a document. \n",
    "\n",
    "The maximum value for TTL is 2147483648 seconds  or 68.096 years. The default value is 0, which indicates that TTL is disabled. If TTL is changed from the default, it is thereby enabled.\n",
    "\n",
    "When the expiration time is reached, Couchbase Server deletes the item the next time it is accessed or when the cleanup process is run periodically. Following the deletion, a tombstone is maintained by Couchbase Server, as a record.\n",
    "\n",
    "A tombstone is a record of an item that has been removed. Tombstones are maintained in order to provide eventual consistency, between nodes and between clusters. They are removed when the metadata is cleaned up by a process known as Metadata Purge which removes all the references to the delted data."
   ]
  },
  {
   "cell_type": "code",
   "execution_count": null,
   "id": "0b400918-f0e8-4f41-82f2-ca530b288a82",
   "metadata": {},
   "outputs": [],
   "source": [
    "# Insert document with expiry option\n",
    "import time\n",
    "from datetime import timedelta\n",
    "\n",
    "from couchbase.options import GetOptions, InsertOptions\n",
    "\n",
    "document = {\"foo\": \"bar\", \"bar\": \"foo\"}\n",
    "opts = InsertOptions(timeout=timedelta(seconds=5))\n",
    "result = cb_coll.insert(\n",
    "    \"document-key-opts\", document, opts, expiry=timedelta(seconds=20)\n",
    ")\n",
    "res = cb_coll.get(\"document-key-opts\")\n",
    "print(f\"Inserted Document: {res.content_as[dict]}\")\n",
    "\n",
    "# Sleep for 20 seconds\n",
    "time.sleep(20)\n",
    "\n",
    "# Extend expiry for a document\n",
    "extend = cb_coll.touch(\"document-key-opts\", timedelta(seconds=10))\n",
    "\n",
    "expiry = cb_coll.get(\"document-key-opts\", GetOptions(with_expiry=True))\n",
    "print(f\"Expiry of Document: {expiry.expiryTime}\")"
   ]
  },
  {
   "cell_type": "markdown",
   "id": "0aedb5e3-f6cf-4969-977f-b0895a936101",
   "metadata": {},
   "source": [
    "Verify that the document is deleted after the expiry time is reached. You can see the tombstone record here which will be deleted after a while.\n",
    "\n",
    "![Expire-Key](./img/Expire_Key.png)"
   ]
  },
  {
   "cell_type": "markdown",
   "id": "3e7a36a8-9f30-40ef-acba-a04dc9f08381",
   "metadata": {},
   "source": [
    "## Use Cases for KV - Caching\n",
    "Caching is a process by which data is stored in a temporary location so that they can be accessed faster in the future.\n",
    "\n",
    "The KV operations can be used for caching data that is frequently accessed by applications. The expiry options can be used to set limited time documents which is quite common with caching. \n",
    "\n",
    "You can go through the following example in case you want to get a complete example of Caching.\n",
    "\n",
    "[Full Example using a Flask server for Caching](https://docs.couchbase.com/python-sdk/current/howtos/caching-example.html)"
   ]
  },
  {
   "cell_type": "markdown",
   "id": "2cb26ddc-3f06-49df-b659-b39820f45921",
   "metadata": {},
   "source": [
    "## Sub-Document Operations\n",
    "Sub-Document operations can be used to efficiently access and change parts of documents.\n",
    "\n",
    "While full-document retrievals retrieve the entire document and full document updates require sending the entire document, Sub-Document retrievals only retrieve relevant parts of a document and Sub-Document updates only require sending the updated portions of a document.\n",
    "\n",
    "Sub-Document operations are also atomic, in that if one Sub-Document mutation fails then all will, allowing safe modifications to documents with built-in concurrency control."
   ]
  },
  {
   "cell_type": "code",
   "execution_count": null,
   "id": "846c73b0-55a2-4f9b-bc4a-f82d84ce3325",
   "metadata": {},
   "outputs": [],
   "source": [
    "import pprint\n",
    "\n",
    "pp = pprint.PrettyPrinter(indent=4, depth=6)"
   ]
  },
  {
   "cell_type": "code",
   "execution_count": null,
   "id": "4991b771-4334-415c-8471-9b1ae9b54dbd",
   "metadata": {},
   "outputs": [],
   "source": [
    "document = {\n",
    "    \"name\": \"Douglas Reynholm\",\n",
    "    \"email\": \"douglas@reynholmindustries.com\",\n",
    "    \"addresses\": {\n",
    "        \"billing\": {\n",
    "            \"line1\": \"123 Any Street\",\n",
    "            \"line2\": \"Anytown\",\n",
    "            \"country\": \"United Kingdom\",\n",
    "        },\n",
    "        \"delivery\": {\n",
    "            \"line1\": \"123 Any Street\",\n",
    "            \"line2\": \"Anytown\",\n",
    "            \"country\": \"United Kingdom\",\n",
    "        },\n",
    "    },\n",
    "    \"purchases\": {\"complete\": [339, 976, 442, 666], \"abandoned\": [157, 42, 999]},\n",
    "}"
   ]
  },
  {
   "cell_type": "markdown",
   "id": "16f422e0-3543-48e4-85c0-01aa3aa0f7cf",
   "metadata": {},
   "source": [
    "## Exercise 2.1\n",
    "Insert this Document into the KV store with the Key \"customer123\". \n",
    "You need to finish this exercise for the following two code samples to work."
   ]
  },
  {
   "cell_type": "code",
   "execution_count": null,
   "id": "8ea19507-7c1d-4f06-a831-14dfc4cce536",
   "metadata": {},
   "outputs": [],
   "source": [
    "# Solution\n"
   ]
  },
  {
   "cell_type": "code",
   "execution_count": null,
   "id": "5c912e20-048e-4e22-bb3e-93deac8a42c3",
   "metadata": {},
   "outputs": [],
   "source": [
    "# Sub-Document Lookup / Fetch sub-document inside the document\n",
    "import couchbase.subdocument as SD\n",
    "\n",
    "try:\n",
    "    result = cb_coll.lookup_in(\"customer123\", [SD.get(\"addresses.delivery.country\")])\n",
    "    country = result.content_as[str](0)\n",
    "    print(country)\n",
    "except Exceptiona as e:\n",
    "    print(e)"
   ]
  },
  {
   "cell_type": "code",
   "execution_count": null,
   "id": "7b1267a0-d533-4204-aff4-1a750bd11f81",
   "metadata": {},
   "outputs": [],
   "source": [
    "# Sub-Document Check / Check for existence of sub-document inside the document\n",
    "try:\n",
    "    result = cb_coll.lookup_in(\"customer123\", [SD.exists(\"purchases.pending[-1]\")])\n",
    "    print(f\"Path exists: {result.exists(0)}\")\n",
    "except Exception as e:\n",
    "    print(e)"
   ]
  },
  {
   "cell_type": "markdown",
   "id": "9f34cc11-9b07-4ec2-9ff7-4e784dc2696e",
   "metadata": {
    "tags": []
   },
   "source": [
    "## Exercise 2.2\n",
    "1. Check for the existence of abandoned purchases for the customer\n",
    "\n",
    "2. Get the list of completed purchases for the customer\n",
    "\n",
    "3. [Bonus] Do the two operations in a single SDK operation "
   ]
  },
  {
   "cell_type": "code",
   "execution_count": null,
   "id": "67a7969e-e55c-484b-a67f-975e8cd1d471",
   "metadata": {},
   "outputs": [],
   "source": [
    "# Solution 1\n"
   ]
  },
  {
   "cell_type": "code",
   "execution_count": null,
   "id": "e61e6a80-5498-4205-af6e-ec8ab613dc68",
   "metadata": {},
   "outputs": [],
   "source": [
    "# Solution 2\n"
   ]
  },
  {
   "cell_type": "code",
   "execution_count": null,
   "id": "1b0dbd97-ef75-4f7c-b7a2-55a524d9d0d5",
   "metadata": {},
   "outputs": [],
   "source": [
    "# Solution 3\n"
   ]
  },
  {
   "cell_type": "markdown",
   "id": "46e1f27b-b237-40fb-9a4c-e924ca372773",
   "metadata": {},
   "source": [
    "## Mutate Sub-Documents"
   ]
  },
  {
   "cell_type": "code",
   "execution_count": null,
   "id": "832edf4f-a9f9-4cda-b5d9-f0977027cadb",
   "metadata": {},
   "outputs": [],
   "source": [
    "# Insert Sub-Document\n",
    "cb_coll.mutate_in(\"customer123\", [SD.upsert(\"fax\", \"311-555-0151\")])\n",
    "\n",
    "result = cb_coll.get(\"customer123\")\n",
    "pp.pprint(result.content_as[dict])"
   ]
  },
  {
   "cell_type": "code",
   "execution_count": null,
   "id": "cd6e416a-bd3f-4828-99ce-b0dcae8a0cd6",
   "metadata": {},
   "outputs": [],
   "source": [
    "# You cannot insert sub-document into an existing path\n",
    "from couchbase.exceptions import PathExistsException\n",
    "\n",
    "try:\n",
    "    cb_coll.mutate_in(\n",
    "        \"customer123\", [SD.insert(\"purchases.complete\", [42, True, \"None\"])]\n",
    "    )\n",
    "except PathExistsException:\n",
    "    print(\"Path exists, cannot use insert.\")"
   ]
  },
  {
   "cell_type": "code",
   "execution_count": null,
   "id": "722d31f3-abaf-4775-a44a-50d251fe87b2",
   "metadata": {},
   "outputs": [],
   "source": [
    "result = cb_coll.get(\"customer123\")\n",
    "pp.pprint(result.content_as[dict])"
   ]
  },
  {
   "cell_type": "code",
   "execution_count": null,
   "id": "3644b2ae-37b8-4ec8-9a7d-154e0a5bef29",
   "metadata": {},
   "outputs": [],
   "source": [
    "# Modify Arrays in Sub-Documents using array_append / array_prepend\n",
    "cb_coll.mutate_in(\n",
    "    \"customer123\",\n",
    "    (\n",
    "        SD.array_append(\"purchases.complete\", 777),\n",
    "        SD.array_prepend(\"purchases.abandoned\", 18),\n",
    "    ),\n",
    ")\n",
    "result = cb_coll.get(\"customer123\")\n",
    "pp.pprint(result.content_as[dict])"
   ]
  },
  {
   "cell_type": "markdown",
   "id": "459c27fe-aaa1-49c4-9cb3-1f728551e6eb",
   "metadata": {},
   "source": [
    "## KV Transactions\n",
    "Couchbase also supports distributed transactions using the Python SDK. \n",
    "\n",
    "You can read more about how to perform transactions [here ](https://docs.couchbase.com/python-sdk/current/howtos/distributed-acid-transactions-from-the-sdk.html)"
   ]
  },
  {
   "cell_type": "markdown",
   "id": "4d14ea40-97b8-46bb-a7d9-998f00b82ee1",
   "metadata": {},
   "source": [
    "## Exercise 2.3\n",
    "1. Fetch the details of the airline with the key `airline_1355`\n",
    "2. Get the altitude of the airport with key `airport_1309`\n",
    "3. Check for the existence of \"schedule\" for the route with key `route_10006`\n",
    "4. Get the first rating for \"Sleep Quality\" for the hotel with key `hotel_10160`"
   ]
  },
  {
   "cell_type": "markdown",
   "id": "e481f39f-d348-44cf-9086-b6e5b0a15637",
   "metadata": {},
   "source": [
    "## Solutions"
   ]
  },
  {
   "cell_type": "code",
   "execution_count": null,
   "id": "ee174995-d886-4995-8249-7628e21aa498",
   "metadata": {},
   "outputs": [],
   "source": [
    "# Solution 1\n"
   ]
  },
  {
   "cell_type": "code",
   "execution_count": null,
   "id": "7559fbbf-abfd-4205-b5d7-b8ceadda0c8d",
   "metadata": {},
   "outputs": [],
   "source": [
    "# Solution 2\n"
   ]
  },
  {
   "cell_type": "code",
   "execution_count": null,
   "id": "b5aa59b5-6c33-41ee-a0b5-64114f8bd04e",
   "metadata": {},
   "outputs": [],
   "source": [
    "# Solution 3\n"
   ]
  },
  {
   "cell_type": "code",
   "execution_count": null,
   "id": "bbe3117d-2366-4d51-b551-40ecda72fdbc",
   "metadata": {},
   "outputs": [],
   "source": [
    "# Solution 4\n"
   ]
  },
  {
   "cell_type": "markdown",
   "id": "7510098a-551e-4e29-8496-cd7bef2ab7cb",
   "metadata": {},
   "source": [
    "## References\n",
    "- [Key Value Operations](https://docs.couchbase.com/python-sdk/current/howtos/kv-operations.html)\n",
    "- [Sub-Document Operations](https://docs.couchbase.com/python-sdk/current/howtos/subdocument-operations.html)\n",
    "- [Python Transactions](https://docs.couchbase.com/python-sdk/current/howtos/distributed-acid-transactions-from-the-sdk.html)"
   ]
  }
 ],
 "metadata": {
  "kernelspec": {
   "display_name": "Python 3 (ipykernel)",
   "language": "python",
   "name": "python3"
  },
  "language_info": {
   "codemirror_mode": {
    "name": "ipython",
    "version": 3
   },
   "file_extension": ".py",
   "mimetype": "text/x-python",
   "name": "python",
   "nbconvert_exporter": "python",
   "pygments_lexer": "ipython3",
   "version": "3.9.13"
  }
 },
 "nbformat": 4,
 "nbformat_minor": 5
}
