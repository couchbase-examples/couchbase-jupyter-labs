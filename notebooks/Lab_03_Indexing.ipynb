{
 "cells": [
  {
   "cell_type": "markdown",
   "id": "03eeb09d-f9e0-434f-954b-9d9160473fbf",
   "metadata": {},
   "source": [
    "## Indexing\n",
    "Creating the right index — with the right keys, in the right order, and using the right expressions — is critical to query performance in any database system. This is true for Couchbase as well. This topic provides an overview of the types of index that you can create using the Index Service, and explains how they help to query for data efficiently and improve query performance."
   ]
  },
  {
   "cell_type": "markdown",
   "id": "8dd28cb3-b2ff-458b-81e0-9b4188bbc7b8",
   "metadata": {},
   "source": [
    "### Notes\n",
    "- In Couchbase, you need indexes to query any data. Without an index, you cannot run any queries. In the case of `travel-sample` data, the indexes are created for you when you import the sample bucket.\n",
    "- Indexes are created asynchronously and can take a bit of time before the process is completed.\n",
    "- You can create indexes using any of the following utilities:\n",
    "    - The Couchbase Query Workbench (in the Web Console)\n",
    "    - The Command-Line based Query Shell (cbq)\n",
    "    - Our REST API\n",
    "    - Any of our Language SDKs, including Python (which we’ll focus on today).\n"
   ]
  },
  {
   "cell_type": "markdown",
   "id": "f95afce2-7326-4fd0-a87b-c9fbc6c8b1d0",
   "metadata": {
    "tags": []
   },
   "source": [
    "### Configuring the Couchbase Cluster Information for Examples\n",
    "\n",
    "The configuration is stored in an environment file, `.env` in this folder. \n",
    "\n",
    "Note that you might have to check for hidden files to see this file on Unix environments.\n",
    "\n",
    "This file can be used to update the connection settings.\n",
    "* DB_HOST: Set to `couchbase://couchbase` by default for connecting to the Couchbase cluster in the docker environment via Docker Compose. If you are running Couchbase locally on your machine via docker or installation, you can change the connection string to `couchbase://localhost`.\n",
    "* DB_USER: Set to `Administrator` by default. If it is different for your cluster, please update the file.\n",
    "* DB_PASSWORD: Set to `Password` by default. If it is different for your cluster, please update the file.\n"
   ]
  },
  {
   "cell_type": "code",
   "execution_count": null,
   "id": "7028f0b1-4b76-4554-bfc0-1043fae0d194",
   "metadata": {},
   "outputs": [],
   "source": [
    "# Read the Database information from .env file\n",
    "from dotenv import load_dotenv\n",
    "import os\n",
    "\n",
    "load_dotenv()  # take environment variables from .env file."
   ]
  },
  {
   "cell_type": "code",
   "execution_count": null,
   "id": "22397fb2-1cee-4f80-8740-babde9463df8",
   "metadata": {
    "tags": []
   },
   "outputs": [],
   "source": [
    "DB_HOST = os.getenv(\"DB_HOST\")\n",
    "DB_USER = os.getenv(\"DB_USER\")\n",
    "DB_PASSWORD = os.getenv(\"DB_PASSWORD\")\n",
    "print(f\"Environment Settings \\n{DB_HOST=} \\n{DB_USER=} \\n{DB_PASSWORD=}\")"
   ]
  },
  {
   "cell_type": "markdown",
   "id": "7c4adda9-aca9-48e2-8c80-3cdcf39a1746",
   "metadata": {
    "tags": []
   },
   "source": [
    "### Connecting to Couchbase Cluster\n",
    "- Connection String: `couchbase://couchbase` would connect to the Couchbase instance.\n",
    "- PasswordAuthenticator: It specifies the username & password used to access the Cluster.\n",
    "\n",
    "#### Note\n",
    "If you are running Couchbase locally on your machine via docker or installation, you can change the connection string to `couchbase://localhost` via the configuration file `.env`"
   ]
  },
  {
   "cell_type": "markdown",
   "id": "2b30141b-12fb-49c1-be30-6cda47994259",
   "metadata": {},
   "source": [
    "## Types of Indexes\n",
    "- Primary Index: The primary index is simply an index on the document key on the entire keyspace.\n",
    "- Secondary Index: A secondary index is an index on any key-value or document-key.\n",
    "- Composite Secondary Index: A secondary index using multiple keys.\n",
    "- Partial Index: An index defined on a subset of documents.\n",
    "- Covering Index: An index that includes the actual values of all the fields specified in the query.\n",
    "- Array Index: An index on array objects in documents."
   ]
  },
  {
   "cell_type": "markdown",
   "id": "b196e1aa-7551-48ea-9df3-12703fb58d83",
   "metadata": {},
   "source": [
    "## Primary Index\n",
    "Primary indexes contain a full set of keys in a given keyspace like in Relational Databases. \n",
    "\n",
    "Every primary index is maintained asynchronously. A primary index is intended to be used for simple queries, which have no filters or predicates.\n",
    "\n",
    "Primary indexes are optional and are only required for running ad hoc queries on a keyspace that is not supported by a secondary index. They are slow as the entire document has to be fetched to match them against the queries and hence not recommended for production. "
   ]
  },
  {
   "cell_type": "code",
   "execution_count": null,
   "id": "39cca606-4f06-4ddf-b4b5-549ae943a716",
   "metadata": {},
   "outputs": [],
   "source": [
    "from couchbase.auth import PasswordAuthenticator\n",
    "from couchbase.cluster import Cluster\n",
    "from couchbase.options import ClusterOptions\n",
    "from couchbase.management.queries import (\n",
    "    CreatePrimaryQueryIndexOptions,\n",
    "    QueryIndexManager,\n",
    ")"
   ]
  },
  {
   "cell_type": "code",
   "execution_count": null,
   "id": "8d461d64-f1ce-4a8b-81dd-647baa810159",
   "metadata": {
    "tags": []
   },
   "outputs": [],
   "source": [
    "cluster = Cluster.connect(\n",
    "    DB_HOST, ClusterOptions(PasswordAuthenticator(DB_USER, DB_PASSWORD))\n",
    ")"
   ]
  },
  {
   "cell_type": "code",
   "execution_count": null,
   "id": "8c7ebe18-3adc-40c1-a46f-86964d5b6e13",
   "metadata": {},
   "outputs": [],
   "source": [
    "primary_idx_query = (\n",
    "    \"CREATE PRIMARY INDEX primary_idx_hotels ON `travel-sample`.inventory.hotel\"\n",
    ")\n",
    "try:\n",
    "    result = cluster.query(primary_idx_query).execute()\n",
    "except Exception as e:\n",
    "    print(e)"
   ]
  },
  {
   "cell_type": "markdown",
   "id": "a98b20dc-5741-47b7-b378-13590fbbe0fa",
   "metadata": {},
   "source": [
    "## Check for the Created Index on Indexes menu in the Web Console\n",
    "This index will be used for all queries on the hotel collection in inventory scope of the travel-sample bucket in case there is no other index on this collection relevant to the query. \n",
    "\n",
    "The drawback with this index is that all the records have to fetched from the index to check whether it matches a query. This can be avoided by using specialized indexes with the relevant fields being indexed.\n",
    "\n",
    "![primary-index-inventory](./img/Primary-Index-Inventory-Hotel.png)"
   ]
  },
  {
   "cell_type": "markdown",
   "id": "5211fa30-b336-4ed9-8dea-eaff3a5371ed",
   "metadata": {
    "tags": []
   },
   "source": [
    "## Checking all Available Indexes\n",
    "You can check for all the available indexes in the cluster by querying the `system:indexes` keyspace which is an internal keyspace which keeps track of all the indexes."
   ]
  },
  {
   "cell_type": "code",
   "execution_count": null,
   "id": "67eb47e1-fa95-473a-bfbc-1b5aa8dce7c2",
   "metadata": {
    "tags": []
   },
   "outputs": [],
   "source": [
    "import pprint\n",
    "\n",
    "pp = pprint.PrettyPrinter(indent=4, depth=6)"
   ]
  },
  {
   "cell_type": "code",
   "execution_count": null,
   "id": "d333368e-2c5f-4136-8794-9141d6638673",
   "metadata": {},
   "outputs": [],
   "source": [
    "all_indexes_query = \"SELECT * FROM system:indexes\"\n",
    "\n",
    "try:\n",
    "    result = cluster.query(all_indexes_query).execute()\n",
    "    for row in result:\n",
    "        pp.pprint(row)\n",
    "except Exception as e:\n",
    "    print(e)"
   ]
  },
  {
   "cell_type": "markdown",
   "id": "b9df1b24-d39d-4c0a-a1ec-e931357e695c",
   "metadata": {},
   "source": [
    "## Explain: Check how the Query is being executed\n",
    "Couchbase allows you to check how the query is being used executed using the current indexes. \n",
    "\n",
    "You can click on `Explain` in the Web interface for the Query Workbench to see the plan for a query.\n",
    "\n",
    "The query plan for this query indicates that the query \n",
    "\n",
    "    - Scans the Primary Index.\n",
    "    - Fetches all the Hotel documents\n",
    "    - Projects the `title` and `country` fields for all the fetched documents\n",
    "\n",
    "![Explain-Index](./img/Explain-Index.png)\n",
    "\n",
    "The Primary Index used here is different from the one created above as there was already a primary index on the same collection that was created when the sample bucket was imported.\n",
    "\n",
    "Note that the Execution Plans can change based on the indexes available. Couchbase automatically selects the best index for the query. "
   ]
  },
  {
   "cell_type": "markdown",
   "id": "dbbaca38-c687-486e-9e5c-043dcf990117",
   "metadata": {},
   "source": [
    "## Secondary Index\n",
    "A secondary index is an index on any key-value or document-key. This index can use any key within the document and the key can be of any type: scalar, object, or array. \n",
    "\n",
    "The query has to use the same type of object for the query engine to use the index."
   ]
  },
  {
   "cell_type": "code",
   "execution_count": null,
   "id": "d6a2aea9-a8e1-438d-9965-cb6bf1fb6b27",
   "metadata": {},
   "outputs": [],
   "source": [
    "# This index will be used for queries that work with the hotel titles\n",
    "secondary_idx_query = (\n",
    "    \"CREATE INDEX idx_hotels_title ON `travel-sample`.inventory.hotel(title)\"\n",
    ")\n",
    "try:\n",
    "    result = cluster.query(secondary_idx_query).execute()\n",
    "except Exception as e:\n",
    "    print(e)"
   ]
  },
  {
   "cell_type": "markdown",
   "id": "079da32d-506a-41e7-a903-80e2b30e0722",
   "metadata": {},
   "source": [
    "## Composite Secondary Index\n",
    "It is common to have queries with multiple filters (predicates). In such cases, you want to use indexes with multiple keys so the indexes can return only the qualified document keys. Additionally, if a query is referencing only the keys in the index, the query engine can simply answer the query from the index scan result without having to fetch from the data nodes. This is commonly used for performance optimization.\n",
    "\n",
    "We can create an index that will handle the query to get the name and country for each hotel in the inventory scope to make it more efficient than using the primary index."
   ]
  },
  {
   "cell_type": "code",
   "execution_count": null,
   "id": "2795dc45-a008-4189-948c-435259c7f11b",
   "metadata": {},
   "outputs": [],
   "source": [
    "# This index will be used for queries that work with the hotel titles & countries\n",
    "hotel_title_country_idx_query = \"CREATE INDEX idx_hotels_title_country ON `travel-sample`.inventory.hotel(title, country)\"\n",
    "try:\n",
    "    result = cluster.query(hotel_title_country_idx_query).execute()\n",
    "except Exception as e:\n",
    "    print(e)"
   ]
  },
  {
   "cell_type": "markdown",
   "id": "433ce1bd-cc72-41d5-b766-429c857e7cd4",
   "metadata": {},
   "source": [
    "## Partial Index\n",
    "Unlike relational systems where each type of row is in a distinct table, Couchbase keyspaces can have documents of various types. You can include a distinguishing field in your document to differentiate distinct types.\n",
    "\n",
    "For example, the landmark keyspace distinguishes types of landmark using the activity field. Couchbase allows you to create indexes for specific activities from them."
   ]
  },
  {
   "cell_type": "code",
   "execution_count": null,
   "id": "ab695a3b-b0a7-4563-a94e-4d43e7df494c",
   "metadata": {},
   "outputs": [],
   "source": [
    "activities = \"SELECT DISTINCT activity FROM `travel-sample`.inventory.landmark\"\n",
    "try:\n",
    "    result = cluster.query(activities)\n",
    "    for row in result:\n",
    "        print(row)\n",
    "except Exception as e:\n",
    "    print(e)"
   ]
  },
  {
   "cell_type": "code",
   "execution_count": null,
   "id": "3c71a54c-1b69-4a36-a105-9c730f26b7dc",
   "metadata": {},
   "outputs": [],
   "source": [
    "# Create an index for landmarks that are of type 'eat'\n",
    "restaurants_index_query = \"CREATE INDEX landmarks_eat ON `travel-sample`.inventory.landmark(name, id, address) WHERE activity='eat'\"\n",
    "try:\n",
    "    result = cluster.query(restaurants_index_query).execute()\n",
    "except Exception as e:\n",
    "    print(e)"
   ]
  },
  {
   "cell_type": "code",
   "execution_count": null,
   "id": "197c5cf8-b3e6-45df-b3ed-5f020677f6ad",
   "metadata": {},
   "outputs": [],
   "source": [
    "all_indexes_query = \"SELECT * FROM system:indexes where name='landmarks_eat'\"\n",
    "\n",
    "try:\n",
    "    result = cluster.query(all_indexes_query).execute()\n",
    "    for row in result:\n",
    "        pp.pprint(row)\n",
    "except Exception as e:\n",
    "    print(e)"
   ]
  },
  {
   "cell_type": "markdown",
   "id": "68c374d0-4363-456a-9fb7-c9a8f4ccd759",
   "metadata": {},
   "source": [
    "## Covering Index\n",
    "When an index includes the actual values of all the fields specified in the query, the index covers the query and does not require an additional step to fetch the actual values from the data service. An index, in this case, is called a covering index and the query is called a covered query. As a result, covered queries are faster and deliver better performance.\n"
   ]
  },
  {
   "cell_type": "code",
   "execution_count": null,
   "id": "dd31f20c-b2f1-40f5-b9b5-e3ccf8c448c9",
   "metadata": {},
   "outputs": [],
   "source": [
    "hotel_state_index_query = (\n",
    "    \"CREATE INDEX idx_state on `travel-sample`.inventory.hotel (state)\"\n",
    ")\n",
    "try:\n",
    "    result = cluster.query(hotel_state_index_query).execute()\n",
    "except Exception as e:\n",
    "    print(e)"
   ]
  },
  {
   "cell_type": "markdown",
   "id": "cf0de1b0-246f-4d87-bed3-ae0ec4e8931b",
   "metadata": {},
   "source": [
    "We can see the query execution plan using the EXPLAIN statement. When a query uses a covering index, the EXPLAIN statement shows that a covering index is used for data access, thus avoiding the overhead associated with key-value document fetches. \n",
    "\n",
    "If we select state from the hotel keyspace, the actual values of the field state that are to be returned are present in the index idx_state, and avoids an additional step to fetch the data. In this case, the index idx_state is called a covering index and the query is a covered query.\n",
    "![Covered-Index](./img/Covered-Index.png)"
   ]
  },
  {
   "cell_type": "markdown",
   "id": "c5bb9ec3-d725-439c-bae9-d8370cc908bd",
   "metadata": {},
   "source": [
    "## Array Indexing\n",
    "Array Indexing adds the capability to create global indexes on array elements and optimizes the execution of queries involving array elements.\n",
    "\n"
   ]
  },
  {
   "cell_type": "code",
   "execution_count": null,
   "id": "af8659e1-ad16-4592-91ff-b1de07785ab6",
   "metadata": {},
   "outputs": [],
   "source": [
    "# Create an index on all schedules\n",
    "# Here, we create an index on all the distinct flight schedules\n",
    "schedules_index_query = \"CREATE INDEX idx_sched ON `travel-sample`.inventory.route ( DISTINCT ARRAY v.flight FOR v IN schedule END )\"\n",
    "\n",
    "try:\n",
    "    result = cluster.query(schedules_index_query).execute()\n",
    "except Exception as e:\n",
    "    print(e)"
   ]
  },
  {
   "cell_type": "code",
   "execution_count": null,
   "id": "06fefa9f-5247-4607-9bdb-dea20bf27844",
   "metadata": {},
   "outputs": [],
   "source": [
    "# Select scheduled flights operated by 'UA'\n",
    "query_schedules = \"SELECT * FROM `travel-sample`.inventory.route WHERE ANY v IN schedule SATISFIES v.flight LIKE 'UA%' END LIMIT 5\"\n",
    "\n",
    "try:\n",
    "    result = cluster.query(query_schedules)\n",
    "    for row in result:\n",
    "        pp.pprint(row)\n",
    "except Exception as e:\n",
    "    print(e)"
   ]
  },
  {
   "cell_type": "code",
   "execution_count": null,
   "id": "eac63438-0c16-412b-98a1-54a0fd133dfc",
   "metadata": {},
   "outputs": [],
   "source": [
    "# Index on Flight Stops\n",
    "flight_stops_index = \"CREATE INDEX idx_flight_stops ON `travel-sample`.inventory.route( stops, DISTINCT ARRAY v.flight FOR v IN schedule END )\"\n",
    "try:\n",
    "    result = cluster.query(flight_stops_index).execute()\n",
    "except Exception as e:\n",
    "    print(e)"
   ]
  },
  {
   "cell_type": "code",
   "execution_count": null,
   "id": "2310bbc7-884c-4c47-a133-3e1e2457a44c",
   "metadata": {},
   "outputs": [],
   "source": [
    "# Select flights with a stopover\n",
    "filter_stops_query = \"SELECT * FROM `travel-sample`.inventory.route WHERE stops >=1 AND ANY v IN schedule SATISFIES v.flight LIKE 'FL%' END\"\n",
    "try:\n",
    "    result = cluster.query(filter_stops_query)\n",
    "    for row in result:\n",
    "        pp.pprint(row)\n",
    "except Exception as e:\n",
    "    print(e)"
   ]
  },
  {
   "cell_type": "markdown",
   "id": "10fd8759-976b-468f-9fab-e6921861741a",
   "metadata": {
    "tags": []
   },
   "source": [
    "## Dropping Indexes\n",
    "The DROP INDEX statement allows you to drop a named primary index or a secondary index. \n",
    "\n",
    "You can drop an index by specifying the name of the index and the keyspace (bucket.scope.collection)."
   ]
  },
  {
   "cell_type": "code",
   "execution_count": null,
   "id": "7c728256-4497-471b-87f7-e4c9396468f8",
   "metadata": {},
   "outputs": [],
   "source": [
    "# This query will drop the index idx_hotels_title that we created earlier\n",
    "drop_idx_query = \"DROP INDEX idx_hotels_title ON `travel-sample`.inventory.hotel\"\n",
    "try:\n",
    "    result = cluster.query(drop_idx_query).execute()\n",
    "except Exception as e:\n",
    "    print(e)"
   ]
  },
  {
   "cell_type": "code",
   "execution_count": null,
   "id": "b0847471-c32a-45ab-a796-aba2495541bd",
   "metadata": {},
   "outputs": [],
   "source": [
    "# This query will drop the primary index primary_idx_hotels that we created earlier\n",
    "# It is recommended to not have primary indexes on production systems as they scan all the documents in the collection\n",
    "drop_primary_idx_query = (\n",
    "    \"DROP INDEX primary_idx_hotels ON `travel-sample`.inventory.hotel\"\n",
    ")\n",
    "try:\n",
    "    result = cluster.query(drop_primary_idx_query).execute()\n",
    "except Exception as e:\n",
    "    print(e)"
   ]
  },
  {
   "cell_type": "markdown",
   "id": "b9450b76-2b72-41f5-9200-bb0db3eab389",
   "metadata": {},
   "source": [
    "## Observe (Optional)\n",
    "Could you try to observe the performance difference between using the Primary Index & the Secondary Index? For this experiment if you are working with the travel-sample data, you would have to delete some of the existing Indexes. "
   ]
  },
  {
   "cell_type": "markdown",
   "id": "b5f5d2d3-957f-46cf-8cfe-8a00e119565f",
   "metadata": {},
   "source": [
    "## Query Optimization\n",
    "Query Optimization tries to optimize queries in various forms and scenarios to bring efficiency. Each optimization is different and results in a different amount of performance benefit.\n",
    "\n",
    "Tuning is iterative and involves the following basic steps:\n",
    "- Identifying the slowly performing or high resource consumption N1QL statements that are responsible for a large share of the application workload and system resources. Generally tuning the slower and most frequently used N1QL queries will yield the highest results. Additionally, depending on your response and SLA needs you will need to identify and tune specific queries. As in many scenarios generally, the Pareto principle applies to query tuning as well - 80% of your workload/performance problems are probably caused by 20% of your queries - focus and tune that 20% of your queries\n",
    "- Verify that the execution plans produced by the query optimizer for these statements are reasonable and expected. Note: Couchbase currently is a RULE based optimizer and not a COST based optimizer so key or index cardinality do not impact the choice of the index or creation of the overall query plan\n",
    "- Implement corrective actions to generate better execution plans for poorly performing SQL statements\n",
    "\n",
    "The previous steps are repeated until the query performance reaches a satisfactory level or no more statements can be tuned.\n",
    "\n",
    "For more details on optimizing your queries, you can check the [Learning Path on our Developer Portal](https://developer.couchbase.com/learn/n1ql-query-performance-guide)."
   ]
  },
  {
   "cell_type": "markdown",
   "id": "5c07f983-54a6-40e6-abf8-3741674dceda",
   "metadata": {},
   "source": [
    "## Exercise 3.1\n",
    "- Create an index to cover the query: \"SELECT name, url, city from \\`travel-sample\\`.inventory.hotel where country='United Kingdom'\"\n",
    "- Create an index to query airports that are over the altitude of 1000. You can look at the alt field inside geo."
   ]
  },
  {
   "cell_type": "markdown",
   "id": "26bbc7fd-226d-4a5c-b06e-f04f2e256b38",
   "metadata": {},
   "source": [
    "## Solutions"
   ]
  },
  {
   "cell_type": "code",
   "execution_count": null,
   "id": "289d8c1d-343b-45fd-b73f-2acf4c383a35",
   "metadata": {},
   "outputs": [],
   "source": [
    "# Covered Index on Hotels\n"
   ]
  },
  {
   "cell_type": "code",
   "execution_count": null,
   "id": "8fcaaa1c-3374-4699-9c22-b62432a3ff51",
   "metadata": {},
   "outputs": [],
   "source": [
    "# Explain the query to check the index in the query workbench\n"
   ]
  },
  {
   "cell_type": "code",
   "execution_count": null,
   "id": "03e0eaf9-24b6-486f-b1ea-5b0ec7bef95b",
   "metadata": {},
   "outputs": [],
   "source": [
    "# Airports with altitude over 1000\n"
   ]
  },
  {
   "cell_type": "code",
   "execution_count": null,
   "id": "c4e2039b-bd18-4065-9d58-3601941723bf",
   "metadata": {},
   "outputs": [],
   "source": [
    "# Explain the query to check the index in the query workbench\n"
   ]
  },
  {
   "cell_type": "markdown",
   "id": "a55c30a0-c8e3-466b-9338-440a6a452584",
   "metadata": {},
   "source": [
    "## References\n",
    "- [Indexing in Couchbase](https://docs.couchbase.com/server/current/learn/services-and-indexes/indexes/global-secondary-indexes.html)\n",
    "- [N1QL Query Performance Guide](https://developer.couchbase.com/learn/n1ql-query-performance-guide)"
   ]
  }
 ],
 "metadata": {
  "kernelspec": {
   "display_name": "Python 3 (ipykernel)",
   "language": "python",
   "name": "python3"
  },
  "language_info": {
   "codemirror_mode": {
    "name": "ipython",
    "version": 3
   },
   "file_extension": ".py",
   "mimetype": "text/x-python",
   "name": "python",
   "nbconvert_exporter": "python",
   "pygments_lexer": "ipython3",
   "version": "3.9.13"
  }
 },
 "nbformat": 4,
 "nbformat_minor": 5
}
