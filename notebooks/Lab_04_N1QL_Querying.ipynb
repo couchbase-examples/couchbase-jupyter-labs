{
 "cells": [
  {
   "cell_type": "markdown",
   "id": "70e7bc2b-470c-42d9-ae98-2e024ed6c74a",
   "metadata": {},
   "source": [
    "## N1QL/SQL++\n",
    "N1QL (pronounced “nickel”) is Couchbase’s next-generation query language. N1QL aims to meet the query needs of distributed document-oriented databases.\n",
    "\n",
    "The N1QL data model derives its name from the non-first normal form, which is a superset and generalization of the relational first normal form (1NF).\n",
    "\n",
    "N1QL is a JSON query language for executing industry-standard ANSI joins and querying, transforming, and manipulating JSON data – just like SQL. With native support for N1QL, Couchbase allows you to visualize and optimize complex query plans for large datasets, deliver the best performance at any scale, and meet the demands of millions of users."
   ]
  },
  {
   "cell_type": "markdown",
   "id": "691de801-0651-46de-8fb1-2ecd72aedc94",
   "metadata": {},
   "source": [
    "## Running Queries\n",
    "N1QL queries can be executed in the following ways:\n",
    "- The Couchbase Query Workbench (in the Web Console)\n",
    "- The Command-Line based Query Shell (cbq)\n",
    "- Our REST API\n",
    "- Any of our Language SDKs, including Python (which we’ll focus on today)."
   ]
  },
  {
   "cell_type": "markdown",
   "id": "08476c2c-f5f1-469e-ab32-5b7d72cbbaa9",
   "metadata": {},
   "source": [
    "## Notes\n",
    "- In Couchbase, you need indexes to run N1QL queries. In the case of `travel-sample` data, the indexes are created for you when you import the sample bucket.\n",
    "- The queries are executed lazily. Unless the Query Results are processed, the query might not have been executed. You can do that by iterating over the results. \n",
    "- Another option to execute the queries is to use the `execute()` method on Query object."
   ]
  },
  {
   "cell_type": "markdown",
   "id": "0808ba3a-5f7e-4258-9373-f95dc04253b2",
   "metadata": {
    "tags": []
   },
   "source": [
    "### Configuring the Couchbase Cluster Information for Examples\n",
    "\n",
    "The configuration is stored in an environment file, `.env` in this folder. \n",
    "\n",
    "Note that you might have to check for hidden files to see this file on Unix environments.\n",
    "\n",
    "This file can be used to update the connection settings.\n",
    "* DB_HOST: Set to `couchbase://couchbase` by default for connecting to the Couchbase cluster in the docker environment via Docker Compose. If you are running Couchbase locally on your machine via docker or installation, you can change the connection string to `couchbase://localhost`.\n",
    "* DB_USER: Set to `Administrator` by default. If it is different for your cluster, please update the file.\n",
    "* DB_PASSWORD: Set to `Password` by default. If it is different for your cluster, please update the file.\n"
   ]
  },
  {
   "cell_type": "code",
   "execution_count": null,
   "id": "533caaf6-16d8-4149-ac3c-4f7080d8fe2e",
   "metadata": {
    "tags": []
   },
   "outputs": [],
   "source": [
    "# Read the Database information from .env file\n",
    "from dotenv import load_dotenv\n",
    "import os\n",
    "\n",
    "load_dotenv()  # take environment variables from .env file."
   ]
  },
  {
   "cell_type": "code",
   "execution_count": null,
   "id": "e0b74928-a91f-4bb3-b656-9a828b6058ba",
   "metadata": {
    "tags": []
   },
   "outputs": [],
   "source": [
    "DB_HOST = os.getenv(\"DB_HOST\")\n",
    "DB_USER = os.getenv(\"DB_USER\")\n",
    "DB_PASSWORD = os.getenv(\"DB_PASSWORD\")\n",
    "print(f\"Environment Settings \\n{DB_HOST=} \\n{DB_USER=} \\n{DB_PASSWORD=}\")"
   ]
  },
  {
   "cell_type": "markdown",
   "id": "514e4dcf-3f12-4b17-ae5b-498f0c56d880",
   "metadata": {
    "tags": []
   },
   "source": [
    "### Connecting to Couchbase Cluster\n",
    "- Connection String: `couchbase://couchbase` would connect to the Couchbase instance.\n",
    "- PasswordAuthenticator: It specifies the username & password used to access the Cluster.\n",
    "\n",
    "#### Note\n",
    "If you are running Couchbase locally on your machine via docker or installation, you can change the connection string to `couchbase://localhost` via the configuration file `.env`"
   ]
  },
  {
   "cell_type": "code",
   "execution_count": null,
   "id": "9ba970e0-abf8-4c15-9198-c7f6e6976457",
   "metadata": {},
   "outputs": [],
   "source": [
    "# needed to support SQL++ (N1QL) query\n",
    "from couchbase.cluster import Cluster, QueryScanConsistency\n",
    "from couchbase.options import ClusterOptions, QueryOptions\n",
    "from couchbase.auth import PasswordAuthenticator\n",
    "from couchbase.exceptions import CouchbaseException"
   ]
  },
  {
   "cell_type": "markdown",
   "id": "1c806a4e-4ed1-4bcb-8a94-2c92cdae5acf",
   "metadata": {},
   "source": [
    "### Note\n",
    "If you are running Couchbase locally on your machine via docker or installation, you can change the connection string to `couchbase://localhost`"
   ]
  },
  {
   "cell_type": "code",
   "execution_count": null,
   "id": "f281be5f-3c71-4949-8ded-02c63a36c3b0",
   "metadata": {},
   "outputs": [],
   "source": [
    "# get a reference to our cluster\n",
    "cluster = Cluster(\n",
    "    DB_HOST,\n",
    "    ClusterOptions(PasswordAuthenticator(DB_USER, DB_PASSWORD)),\n",
    ")"
   ]
  },
  {
   "cell_type": "code",
   "execution_count": null,
   "id": "51fbc98f-e5ee-44b8-91a1-f413070c35b2",
   "metadata": {},
   "outputs": [],
   "source": [
    "# get a reference to our bucket\n",
    "bucket = cluster.bucket(\"travel-sample\")"
   ]
  },
  {
   "cell_type": "code",
   "execution_count": null,
   "id": "a238f3f5-efa0-4ccc-96ef-f9a92641129e",
   "metadata": {},
   "outputs": [],
   "source": [
    "import pprint\n",
    "\n",
    "pp = pprint.PrettyPrinter(indent=4, depth=6)"
   ]
  },
  {
   "cell_type": "markdown",
   "id": "aa37bd40-25be-4316-be3a-03b737405b19",
   "metadata": {},
   "source": [
    "## cluster.query() Method\n",
    "The `query()` method in the Couchbase Cluster object can be used to run N1QL queries using the Python SDK. \n",
    "It returns the data returned by the query or an error if the query is not successful.\n",
    "\n",
    "[`QueryOptions()`](https://docs.couchbase.com/python-sdk/current/howtos/n1ql-queries-with-sdk.html#query-options) can be used to specify options for the query like metrics, timeout, scan consistency, query parameters, query context, etc. \n",
    "\n",
    "The results are returned as an iterator and can be processed as needed."
   ]
  },
  {
   "cell_type": "code",
   "execution_count": null,
   "id": "bf67a4be-c3ac-472b-b90f-b3f140576eda",
   "metadata": {},
   "outputs": [],
   "source": [
    "# Select Statement\n",
    "try:\n",
    "    result = cluster.query(\n",
    "        \"SELECT * FROM `travel-sample`.inventory.airport LIMIT 10\",\n",
    "        QueryOptions(metrics=True),\n",
    "    )\n",
    "\n",
    "    for row in result.rows():\n",
    "        pp.pprint(row)\n",
    "\n",
    "    print(f\"Query Execution time: {result.metadata().metrics().execution_time()}\")\n",
    "\n",
    "except CouchbaseException as ex:\n",
    "    print(ex)"
   ]
  },
  {
   "cell_type": "markdown",
   "id": "21ac1eb6-8ee1-47d1-b444-15f1ff9c966b",
   "metadata": {},
   "source": [
    "## Queries and Placeholders\n",
    "Placeholders allow you to specify variable constraints for an otherwise constant query. There are two variants of placeholders: postional and named parameters. Positional parameters use an ordinal placeholder for substitution and named parameters use variables. A named or positional parameter is a placeholder for a value in the WHERE, LIMIT or OFFSET clause of a query.\n",
    "\n",
    "You can specify the query parameters either as a part of the query or as a `QueryOptions` object.\n",
    "\n",
    "The main difference between the positional parameters and the named parameters are in the way the parameters are mentioned in the query. Named parameters refer to the variables specified in the query while the positional parameters are always referred to by the order in which they are specified. The results do not change as the query is the same."
   ]
  },
  {
   "cell_type": "markdown",
   "id": "c0d43e91-eb8d-4242-94a5-5b128268cdc7",
   "metadata": {},
   "source": [
    "## Positional Parameters"
   ]
  },
  {
   "cell_type": "code",
   "execution_count": null,
   "id": "a9be7faa-20fd-47df-a334-1fb34720aedd",
   "metadata": {},
   "outputs": [],
   "source": [
    "# The positional parameters are replaced in the order in which they are specified.\n",
    "query = \"SELECT a.airportname, a.city FROM `travel-sample`.inventory.airport a where country=$1 AND city=$2\"\n",
    "try:\n",
    "    result = cluster.query(query, \"United Kingdom\", \"London\")\n",
    "    # Each row is one document\n",
    "    for row in result:\n",
    "        print(f\"Airport: {row['airportname']}, City: {row['city']}\")\n",
    "\n",
    "except Exception as e:\n",
    "    print(e)"
   ]
  },
  {
   "cell_type": "code",
   "execution_count": null,
   "id": "b66b26fd-be02-45e1-afe2-fe0d653b9f9b",
   "metadata": {},
   "outputs": [],
   "source": [
    "query = \"SELECT a.airportname, a.city FROM `travel-sample`.inventory.airport a where country=$1 AND city=$2\"\n",
    "try:\n",
    "    result = cluster.query(\n",
    "        query, QueryOptions(positional_parameters=[\"United Kingdom\", \"London\"])\n",
    "    )\n",
    "\n",
    "    for row in result:\n",
    "        print(f\"Airport: {row['airportname']}, City: {row['city']}\")\n",
    "\n",
    "except Exception as e:\n",
    "    print(e)"
   ]
  },
  {
   "cell_type": "markdown",
   "id": "89a0f663-ac5a-4762-a5c2-8eee3d29fe23",
   "metadata": {},
   "source": [
    "## Named Parameters"
   ]
  },
  {
   "cell_type": "code",
   "execution_count": null,
   "id": "c0097d00-28f2-4f10-9655-57709e2f731e",
   "metadata": {},
   "outputs": [],
   "source": [
    "# The named parameters are replaced by the name specified in the query\n",
    "query = \"SELECT a.airportname, a.city FROM `travel-sample`.inventory.airport a where country=$country AND city=$city\"\n",
    "try:\n",
    "    result = cluster.query(query, country=\"United Kingdom\", city=\"London\")\n",
    "\n",
    "    for row in result:\n",
    "        print(f\"Airport: {row['airportname']}, City: {row['city']}\")\n",
    "\n",
    "except Exception as e:\n",
    "    print(e)"
   ]
  },
  {
   "cell_type": "code",
   "execution_count": null,
   "id": "779004cc-518f-4233-8f7c-2f3ee9a0c2bc",
   "metadata": {},
   "outputs": [],
   "source": [
    "query = \"SELECT a.airportname, a.city FROM `travel-sample`.inventory.airport a where country=$country AND city=$city\"\n",
    "try:\n",
    "    result = cluster.query(\n",
    "        query,\n",
    "        QueryOptions(named_parameters={\"country\": \"United Kingdom\", \"city\": \"London\"}),\n",
    "    )\n",
    "\n",
    "    for row in result:\n",
    "        print(f\"Airport: {row['airportname']}, City: {row['city']}\")\n",
    "\n",
    "except Exception as e:\n",
    "    print(e)"
   ]
  },
  {
   "cell_type": "markdown",
   "id": "16db6f8b-0725-4bfe-90d5-160a3a479b6b",
   "metadata": {},
   "source": [
    "## Query Metrics\n",
    "The performance & metadata about a query can be measured using the optional `metrics` parameter in the QueryOptions"
   ]
  },
  {
   "cell_type": "code",
   "execution_count": null,
   "id": "0d761c58-d56c-49f0-89ad-7e0f07e72ff4",
   "metadata": {},
   "outputs": [],
   "source": [
    "query = \"SELECT a.airportname, a.city FROM `travel-sample`.inventory.airport a where country=$country AND city=$city LIMIT 4\"\n",
    "try:\n",
    "    result = cluster.query(\n",
    "        query,\n",
    "        QueryOptions(named_parameters={\"country\": \"United Kingdom\", \"city\": \"London\"}),\n",
    "        metrics=True,\n",
    "    )\n",
    "    print(\"Results\")\n",
    "    print(\"------\")\n",
    "    for row in result:\n",
    "        print(f\"Airport: {row['airportname']}, City: {row['city']}\")\n",
    "    print(\"------\")\n",
    "    print(f\"Query Metrics: {result.metadata().metrics()}\")\n",
    "    print(\"------\")\n",
    "except Exception as e:\n",
    "    print(e)"
   ]
  },
  {
   "cell_type": "markdown",
   "id": "f07b7ac3-d8f4-4e9a-8d8d-aa6a34b3c087",
   "metadata": {},
   "source": [
    "## Scan Consistency\n",
    "By default, the query engine will return whatever is currently in the index at the time of query (this mode is also called `QueryScanConsistency.NOT_BOUNDED`). If you need to include everything that has just been written, a different scan consistency must be chosen. If `QueryScanConsistency.REQUEST_PLUS` is chosen, it will likely take a bit longer to return the results but the query engine will make sure that it is as up-to-date as possible."
   ]
  },
  {
   "cell_type": "code",
   "execution_count": null,
   "id": "0a1be556-53d9-49b3-90c5-c0eae1a28709",
   "metadata": {},
   "outputs": [],
   "source": [
    "result = cluster.query(\n",
    "    \"SELECT ts.* FROM `travel-sample`.inventory.airline ts LIMIT 10\",\n",
    "    QueryOptions(scan_consistency=QueryScanConsistency.REQUEST_PLUS, metrics=True),\n",
    ")\n",
    "for row in result:\n",
    "    pp.pprint(row)\n",
    "print(\"Query Metrics:\", result.metadata().metrics())"
   ]
  },
  {
   "cell_type": "markdown",
   "id": "cd04e2f0-d83c-4592-8963-350824806db8",
   "metadata": {},
   "source": [
    "## Create, Read, Update, Delete (CRUD) Operations\n",
    "The most common operations in applications using Database systems are the CRUD operations. Most of the web applications are composed of these fundamental CRUD operations. \n",
    "\n",
    "These statements are similar to SQL."
   ]
  },
  {
   "cell_type": "markdown",
   "id": "10f36a3f-ee90-4158-becf-bc3a837490d3",
   "metadata": {},
   "source": [
    "## Insert\n",
    "Use the INSERT statement to insert one or more new documents into an existing keyspace. Each INSERT statement requires a unique document key and well-formed JSON as values. In Couchbase, documents in a single keyspace must have a unique key.\n",
    "\n",
    "The key represents the ID of the document to be inserted. It cannot be Missing or Null & must be Unique across all the documents in the collection."
   ]
  },
  {
   "cell_type": "code",
   "execution_count": null,
   "id": "532c74d7-c520-42fa-beb7-9a3226235a45",
   "metadata": {},
   "outputs": [],
   "source": [
    "insert_statement = 'INSERT INTO `travel-sample`.inventory.hotel (KEY, VALUE) VALUES (\"key1\", { \"type\" : \"hotel\", \"name\" : \"new hotel\" })'\n",
    "try:\n",
    "    result = cluster.query(insert_statement).execute()\n",
    "except Exception as e:\n",
    "    print(e)"
   ]
  },
  {
   "cell_type": "code",
   "execution_count": null,
   "id": "f8810c90-d9e2-4ed3-86df-d0cd9324473b",
   "metadata": {},
   "outputs": [],
   "source": [
    "# Fetch the inserted document\n",
    "result = cluster.query(\n",
    "    \"SELECT * from `travel-sample`.inventory.hotel where name='new hotel'\"\n",
    ")\n",
    "try:\n",
    "    for row in result:\n",
    "        print(row)\n",
    "except Exception as e:\n",
    "    print(e)"
   ]
  },
  {
   "cell_type": "markdown",
   "id": "07f66563-d0e8-4905-9b2b-945e55688332",
   "metadata": {},
   "source": [
    "## Upsert\n",
    "The UPSERT statement is used if you want to overwrite a document with the same key, in case it already exists. In case the document does not exist, a new document is created with the specified key."
   ]
  },
  {
   "cell_type": "code",
   "execution_count": null,
   "id": "6a451fe7-46b2-425b-aefd-7ba7803e6433",
   "metadata": {},
   "outputs": [],
   "source": [
    "upsert_statement = 'UPSERT INTO `travel-sample`.inventory.hotel (KEY, VALUE) VALUES (\"key1\", { \"type\" : \"hotel\", \"name\" : \"new hotel\", \"city\":\"Manchester\"})'\n",
    "try:\n",
    "    result = cluster.query(upsert_statement).execute()\n",
    "    for row in result:\n",
    "        print(row)\n",
    "except Exception as e:\n",
    "    print(e)"
   ]
  },
  {
   "cell_type": "markdown",
   "id": "f0fddf7a-c235-44ee-b363-b6816316ceb6",
   "metadata": {},
   "source": [
    "## Exercise 4.1\n",
    "- Fetch the upserted document"
   ]
  },
  {
   "cell_type": "code",
   "execution_count": null,
   "id": "bcd080fa-d928-46da-bd49-2334cbcca5b1",
   "metadata": {},
   "outputs": [],
   "source": [
    "# Solution\n"
   ]
  },
  {
   "cell_type": "markdown",
   "id": "d4629ad8-9e50-4fd8-a56e-8f9742bae7f6",
   "metadata": {},
   "source": [
    "## Update\n",
    "UPDATE replaces a document that already exists with updated values.\n",
    "\n",
    "You can use the RETURNING clause to return specific information as part of the query."
   ]
  },
  {
   "cell_type": "code",
   "execution_count": null,
   "id": "4774da92-2295-4c86-85f2-9fd6dc538174",
   "metadata": {},
   "outputs": [],
   "source": [
    "update_statement = \"UPDATE `travel-sample`.inventory.hotel USE KEYS 'key1' UNSET city RETURNING hotel.name\"\n",
    "try:\n",
    "    result = cluster.query(update_statement)\n",
    "    for row in result:\n",
    "        print(row)\n",
    "except Exception as e:\n",
    "    print(e)"
   ]
  },
  {
   "cell_type": "markdown",
   "id": "194be92c-3e4c-4e87-ba84-045568becde6",
   "metadata": {},
   "source": [
    "## Exercise 4.2\n",
    "1. Fetch the updated document\n",
    "2. Update the hotel name to \"New Hotel International\""
   ]
  },
  {
   "cell_type": "code",
   "execution_count": null,
   "id": "8c245a2d-77ba-4151-af98-d396ba85a914",
   "metadata": {},
   "outputs": [],
   "source": [
    "# Fetch the updated document\n"
   ]
  },
  {
   "cell_type": "code",
   "execution_count": null,
   "id": "305cc9c6-23ae-4444-97cf-d0d6576d4e01",
   "metadata": {},
   "outputs": [],
   "source": [
    "# Update the hotel name to \"New Hotel International\"\n"
   ]
  },
  {
   "cell_type": "markdown",
   "id": "e4797647-faf7-4855-bf6e-d8769c7750bb",
   "metadata": {},
   "source": [
    "## Delete\n",
    "DELETE immediately removes the specified document from your keyspace."
   ]
  },
  {
   "cell_type": "code",
   "execution_count": null,
   "id": "7721206a-0ac5-4bad-9da3-9dc2846b1a44",
   "metadata": {},
   "outputs": [],
   "source": [
    "delete_statement = (\n",
    "    \"DELETE FROM `travel-sample`.inventory.hotel h USE KEYS 'key1' RETURNING h\"\n",
    ")\n",
    "try:\n",
    "    result = cluster.query(delete_statement)\n",
    "    for row in result:\n",
    "        print(f\"Deleted Row: {row}\")\n",
    "except Exception as e:\n",
    "    print(e)"
   ]
  },
  {
   "cell_type": "markdown",
   "id": "73288f1c-34e5-4de4-a17c-82bc6d85d4a5",
   "metadata": {},
   "source": [
    "## Exercise 4.3\n",
    "- Check if the deleted record exists"
   ]
  },
  {
   "cell_type": "code",
   "execution_count": null,
   "id": "42b077db-5519-4973-90c7-cc2043c4fbc8",
   "metadata": {},
   "outputs": [],
   "source": [
    "# Solution\n"
   ]
  },
  {
   "cell_type": "markdown",
   "id": "802575c7-e56f-46e4-b748-a52dff6251a4",
   "metadata": {},
   "source": [
    "## Select\n",
    "The SELECT statement takes a set of JSON documents from keyspaces as its input, manipulates it and returns a set of JSON documents in the result array. Since the schema for JSON documents is flexible, JSON documents in the result set have flexible schema as well.\n",
    "\n",
    "A simple query in N1QL consists of three parts:\n",
    "\n",
    "- SELECT: specifies the projection, which is the part of the document that is to be returned.\n",
    "\n",
    "- FROM: specifies the keyspaces(bucket, scope, collection) to work with.\n",
    "\n",
    "- WHERE: specifies the query criteria (filters or predicates) that the results must satisfy.\n",
    "\n",
    "To query on a keyspace, you must either specify the document keys or use an index on the keyspace.\n"
   ]
  },
  {
   "cell_type": "code",
   "execution_count": null,
   "id": "4b5f37aa-c3f6-4af2-8afd-1bc627516a26",
   "metadata": {},
   "outputs": [],
   "source": [
    "# Select All Airlines in the Database with Country \"United Kingdom\"\n",
    "uk_airlines = (\n",
    "    \"SELECT * from `travel-sample`.inventory.airline where country='United Kingdom'\"\n",
    ")\n",
    "\n",
    "try:\n",
    "    result = cluster.query(uk_airlines)\n",
    "    for row in result:\n",
    "        pp.pprint(row)\n",
    "except Exception as e:\n",
    "    print(e)"
   ]
  },
  {
   "cell_type": "code",
   "execution_count": null,
   "id": "79f2c676-788d-4b71-9881-55577279cb2c",
   "metadata": {},
   "outputs": [],
   "source": [
    "# Select Just Airline Name & ICAO Codes for Airlines\n",
    "uk_airlines = \"SELECT a.name, a.icao from `travel-sample`.inventory.airline a where country='United Kingdom'\"\n",
    "try:\n",
    "    result = cluster.query(uk_airlines)\n",
    "    for row in result:\n",
    "        pp.pprint(row)\n",
    "except Exception as e:\n",
    "    print(e)"
   ]
  },
  {
   "cell_type": "markdown",
   "id": "183c3e79-a0ea-48e2-8267-1f493b7cb164",
   "metadata": {},
   "source": [
    "## Limit Results using OFFSET & LIMIT\n",
    "The LIMIT clause specifies the maximum number of documents to be returned in a resultset by a SELECT statement.\n",
    "\n",
    "When you don’t need the entire resultset, use the LIMIT clause to specify the maximum number of documents to be returned in a resultset by a SELECT query.\n",
    "\n",
    "The OFFSET clause specifies the number of resultset objects to skip in a SELECT query.\n",
    "\n",
    "When you want the resultset to skip over the first few resulting objects, use the OFFSET clause to specify that number of objects to ignore.\n",
    "\n",
    "The LIMIT and OFFSET clauses are evaluated after the ORDER BY clause.\n",
    "\n",
    "If a LIMIT clause is also present, the OFFSET is applied prior to the LIMIT; that is, the specified number of objects is omitted from the result set before enforcing a specified LIMIT."
   ]
  },
  {
   "cell_type": "code",
   "execution_count": null,
   "id": "d4ca2b58-ba6b-45b4-ad28-40a0c1af2108",
   "metadata": {},
   "outputs": [],
   "source": [
    "# Select Airline Name & ICAO Codes for 10 Airlines by ICAO Code\n",
    "uk_airlines = \"SELECT a.name, a.icao from `travel-sample`.inventory.airline a where country='United Kingdom' ORDER BY icao LIMIT 5\"\n",
    "try:\n",
    "    result = cluster.query(uk_airlines)\n",
    "    print(\"Initial 5 Records\")\n",
    "    for row in result:\n",
    "        pp.pprint(row)\n",
    "except Exception as e:\n",
    "    print(e)\n",
    "\n",
    "uk_airlines = \"SELECT a.name, a.icao from `travel-sample`.inventory.airline a where country='United Kingdom' ORDER BY icao LIMIT 5 OFFSET 5\"\n",
    "try:\n",
    "    result = cluster.query(uk_airlines)\n",
    "    print(\"Next 5 Records\")\n",
    "    for row in result:\n",
    "        pp.pprint(row)\n",
    "except Exception as e:\n",
    "    print(e)"
   ]
  },
  {
   "cell_type": "markdown",
   "id": "3b45d136-3b9c-4f0e-b9aa-b8c119d0a8ec",
   "metadata": {},
   "source": [
    "## Aggregate Functions\n",
    "Aggregate functions take multiple values from documents, perform calculations, and return a single value as the result. The function names are case insensitive.\n",
    "\n",
    "You can only use aggregate functions in SELECT, LETTING, HAVING, and ORDER BY clauses. When using an aggregate function in a query, the query operates as an aggregate query.\n"
   ]
  },
  {
   "cell_type": "code",
   "execution_count": null,
   "id": "c6bb09aa-1fa9-473f-b698-0ebbe06a703f",
   "metadata": {},
   "outputs": [],
   "source": [
    "# Get the Count of Airlines per Country\n",
    "airline_counts = \"SELECT COUNT(DISTINCT a.icao) AS airline_count, a.country \\\n",
    "    FROM `travel-sample`.inventory.airline a \\\n",
    "    GROUP BY a.country\"\n",
    "\n",
    "try:\n",
    "    result = cluster.query(airline_counts)\n",
    "    for row in result:\n",
    "        print(row)\n",
    "except Exception as e:\n",
    "    print(e)"
   ]
  },
  {
   "cell_type": "code",
   "execution_count": null,
   "id": "abc1b164-38c1-4c0b-b31d-75fcc068f2f4",
   "metadata": {},
   "outputs": [],
   "source": [
    "# Get the Cities with more than 150 Landmarks\n",
    "city_landmarks = \"SELECT city City, COUNT(DISTINCT name) LandmarkCount \\\n",
    "    FROM `travel-sample`.inventory.landmark \\\n",
    "    GROUP BY city \\\n",
    "    HAVING COUNT(DISTINCT name) > 150\"\n",
    "\n",
    "try:\n",
    "    result = cluster.query(city_landmarks)\n",
    "    for row in result:\n",
    "        print(row)\n",
    "except Exception as e:\n",
    "    print(e)"
   ]
  },
  {
   "cell_type": "markdown",
   "id": "b8ca1cbf-9a1a-43ee-82f0-2bf5691cabf1",
   "metadata": {},
   "source": [
    "## Exercise 4.4\n",
    "- Get the Count of Airports per Country sorted in descending order of Airports"
   ]
  },
  {
   "cell_type": "code",
   "execution_count": null,
   "id": "c5bf6076-d7bd-48c9-a649-5fee66667fec",
   "metadata": {},
   "outputs": [],
   "source": [
    "# Solution\n"
   ]
  },
  {
   "cell_type": "markdown",
   "id": "017c3680-4769-4b6d-9080-79b75ba19911",
   "metadata": {},
   "source": [
    "## Joins\n",
    "N1QL provides joins, which allow you to assemble new objects by combining two or more source objects.\n"
   ]
  },
  {
   "cell_type": "code",
   "execution_count": null,
   "id": "8d2ea6e4-a1ba-4c04-a2a6-d32e9637ca42",
   "metadata": {},
   "outputs": [],
   "source": [
    "# Join the Airport Object with Destination Airport in Routes from SFO\n",
    "join_example = \"SELECT * \\\n",
    "    FROM `travel-sample`.inventory.route AS rte \\\n",
    "        JOIN `travel-sample`.inventory.airport AS apt ON rte.destinationairport = apt.faa \\\n",
    "    WHERE rte.sourceairport='SFO' \\\n",
    "    LIMIT 5\"\n",
    "\n",
    "try:\n",
    "    result = cluster.query(join_example)\n",
    "    for row in result:\n",
    "        pp.pprint(row)\n",
    "except Exception as e:\n",
    "    print(e)"
   ]
  },
  {
   "cell_type": "code",
   "execution_count": null,
   "id": "0845eff2-407a-4a4a-a910-73a350811de8",
   "metadata": {},
   "outputs": [],
   "source": [
    "# Join Airlines with the Routes using the Airline ID\n",
    "join_example2 = 'SELECT * \\\n",
    "    FROM `travel-sample`.inventory.route \\\n",
    "    JOIN `travel-sample`.inventory.airline \\\n",
    "    ON route.airlineid = META(airline).id \\\n",
    "    WHERE airline.country = \"France\" \\\n",
    "    LIMIT 3'\n",
    "\n",
    "try:\n",
    "    result = cluster.query(join_example2)\n",
    "    for row in result:\n",
    "        pp.pprint(row)\n",
    "except Exception as e:\n",
    "    print(e)"
   ]
  },
  {
   "cell_type": "code",
   "execution_count": null,
   "id": "1da44d9d-6ff4-47a1-9979-e46c13d3a266",
   "metadata": {},
   "outputs": [],
   "source": [
    "# Find the destination airport of all routes whose source airport is in San Francisco\n",
    "# Join using sub query\n",
    "join_example3 = 'SELECT DISTINCT subquery.destinationairport \\\n",
    "    FROM `travel-sample`.inventory.airport \\\n",
    "    JOIN ( \\\n",
    "      SELECT destinationairport, sourceairport \\\n",
    "      FROM `travel-sample`.inventory.route \\\n",
    "    ) AS subquery \\\n",
    "    ON airport.faa = subquery.sourceairport \\\n",
    "    WHERE airport.city = \"San Francisco\"\\\n",
    "    LIMIT 10'\n",
    "\n",
    "try:\n",
    "    result = cluster.query(join_example3)\n",
    "\n",
    "    for row in result:\n",
    "        print(row)\n",
    "\n",
    "except Exception as e:\n",
    "    print(e)"
   ]
  },
  {
   "cell_type": "markdown",
   "id": "5ba0034d-fbc5-4031-a63c-a4c06a792d5f",
   "metadata": {},
   "source": [
    "## Exercise 4.5\n",
    "1. Select the Airline Names & ICAO Codes for Airlines operating from France\n",
    "2. Get the Count of Landmarks By Country\n",
    "3. Find the source airport of all routes whose destination airport is in San Francisco\n"
   ]
  },
  {
   "cell_type": "code",
   "execution_count": null,
   "id": "fbac94ca-3b56-446a-894b-0bdbc2c39a83",
   "metadata": {},
   "outputs": [],
   "source": [
    "# Solution 1\n"
   ]
  },
  {
   "cell_type": "code",
   "execution_count": null,
   "id": "9b395a08-1f44-48a8-b5d1-aeec885a181e",
   "metadata": {},
   "outputs": [],
   "source": [
    "# Solution 2\n"
   ]
  },
  {
   "cell_type": "code",
   "execution_count": null,
   "id": "87af49f0-34ba-40f5-bd6f-67486f01667c",
   "metadata": {},
   "outputs": [],
   "source": [
    "# Solution 3\n"
   ]
  },
  {
   "cell_type": "markdown",
   "id": "42e667c3-4524-4025-b805-ee09cdf7bbe8",
   "metadata": {},
   "source": [
    "## Array Operations\n",
    "Couchbase supports arrays as part of the documents and also provides a rich set of operations to work with arrays. "
   ]
  },
  {
   "cell_type": "markdown",
   "id": "6223ee2e-963a-4a66-8a69-d6cf218c638c",
   "metadata": {},
   "source": [
    "## NEST\n",
    "NEST performs a join across two buckets. But instead of producing an object for each combination of left and right hand inputs, NEST produces a single object for each left hand input, while the corresponding right hand inputs are collected into an array and nested as a single array-valued field in the result object.\n"
   ]
  },
  {
   "cell_type": "code",
   "execution_count": null,
   "id": "9f0445e9-6d55-4bc4-a653-97f13c3dc6d4",
   "metadata": {},
   "outputs": [],
   "source": [
    "# Nesting landmarks with the airport & routes\n",
    "nest_query = \"SELECT * \\\n",
    "    FROM `travel-sample`.inventory.route AS rte \\\n",
    "    JOIN `travel-sample`.inventory.airport AS apt \\\n",
    "      ON rte.destinationairport = apt.faa \\\n",
    "    NEST `travel-sample`.inventory.landmark AS lmk \\\n",
    "      ON apt.city = lmk.city \\\n",
    "    LIMIT 2\"\n",
    "\n",
    "try:\n",
    "    result = cluster.query(nest_query)\n",
    "\n",
    "    for row in result:\n",
    "        pp.pprint(row)\n",
    "\n",
    "except Exception as e:\n",
    "    print(e)"
   ]
  },
  {
   "cell_type": "markdown",
   "id": "45f77fcb-5b6f-4a53-87ba-d975947949a8",
   "metadata": {},
   "source": [
    "## UNNEST\n",
    "UNNEST allow you to take the contents of nested arrays and join them with their parent object."
   ]
  },
  {
   "cell_type": "code",
   "execution_count": null,
   "id": "14a79b1d-b1a3-4df2-bbe1-ec3332984ee3",
   "metadata": {},
   "outputs": [],
   "source": [
    "# Iterate over the reviews array and collects the author names of the reviewers who rated the rooms less than a 2\n",
    "unnest_example = \"SELECT RAW r.author \\\n",
    "    FROM `travel-sample`.inventory.hotel \\\n",
    "    UNNEST reviews AS r \\\n",
    "    WHERE r.ratings.Rooms < 2 \\\n",
    "    LIMIT 4\"\n",
    "\n",
    "try:\n",
    "    result = cluster.query(unnest_example)\n",
    "    for row in result:\n",
    "        print(row)\n",
    "except Exception as e:\n",
    "    print(e)"
   ]
  },
  {
   "cell_type": "markdown",
   "id": "1a4a54e8-6120-42d2-b0ad-b83881e46d4a",
   "metadata": {},
   "source": [
    "## Transactions\n",
    "A transaction is an atomic unit of work that contains one or more operations. It is a group of operations that are either committed to the database together or they are all undone from the database.\n",
    "\n",
    "Couchbase Supports Distributed ACID Transactions using N1QL. It is currently available for use with the Python SDK.\n",
    "\n",
    "More details about Transactions in Couchbase including samples, you can refer to the [documentation](https://docs.couchbase.com/server/current/learn/data/transactions.html)."
   ]
  },
  {
   "cell_type": "markdown",
   "id": "ae00646d-87d8-48e0-9f4c-ba0e0e1b109c",
   "metadata": {},
   "source": [
    "## References\n",
    "- [N1QL Reference](https://docs.couchbase.com/server/current/n1ql/n1ql-language-reference/index.html)\n",
    "- [N1QL Tutorial](https://couchbase.live/examples/basic-sql++-basics)\n",
    "- [N1QL Queries from Python SDK](https://docs.couchbase.com/python-sdk/current/howtos/n1ql-queries-with-sdk.html)\n",
    "- [JOINs in N1QL](https://docs.couchbase.com/server/current/n1ql/n1ql-language-reference/join.html)\n",
    "- [N1QL Cheatsheet](https://docs.couchbase.com/files/Couchbase-N1QL-CheatSheet.pdf)\n",
    "- [Transactions in Python](https://docs.couchbase.com/python-sdk/current/howtos/distributed-acid-transactions-from-the-sdk.html)"
   ]
  }
 ],
 "metadata": {
  "kernelspec": {
   "display_name": "Python 3 (ipykernel)",
   "language": "python",
   "name": "python3"
  },
  "language_info": {
   "codemirror_mode": {
    "name": "ipython",
    "version": 3
   },
   "file_extension": ".py",
   "mimetype": "text/x-python",
   "name": "python",
   "nbconvert_exporter": "python",
   "pygments_lexer": "ipython3",
   "version": "3.11.6"
  }
 },
 "nbformat": 4,
 "nbformat_minor": 5
}
