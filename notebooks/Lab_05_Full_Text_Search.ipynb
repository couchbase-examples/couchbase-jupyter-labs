{
 "cells": [
  {
   "cell_type": "markdown",
   "id": "4644910b-2d63-4f9a-8f2f-720d25e112b4",
   "metadata": {},
   "source": [
    "## Full Text Search (FTS)\n",
    "Full Text Search or FTS allows you to create, manage and query full text indexes on JSON documents stored in Couchbase buckets. It uses natural language processing for indexing and querying documents, provides relevance scoring on the results of your queries and has fast indexes for querying a wide range of possible text searches.\n",
    "\n",
    "Some of the supported query-types include simple queries like Match and Term queries, range queries like Date Range and Numeric Range and compound queries for conjunctions, disjunctions and/or boolean queries."
   ]
  },
  {
   "cell_type": "markdown",
   "id": "012a0ca2-3c1a-4565-bca3-346645d96dcd",
   "metadata": {
    "tags": []
   },
   "source": [
    "### Configuring the Couchbase Cluster Information for Examples\n",
    "\n",
    "The configuration is stored in an environment file, `.env` in this folder. \n",
    "\n",
    "Note that you might have to check for hidden files to see this file on Unix environments.\n",
    "\n",
    "This file can be used to update the connection settings.\n",
    "* DB_HOST: Set to `couchbase://couchbase` by default for connecting to the Couchbase cluster in the docker environment via Docker Compose. If you are running Couchbase locally on your machine via docker or installation, you can change the connection string to `couchbase://localhost`.\n",
    "* DB_USER: Set to `Administrator` by default. If it is different for your cluster, please update the file.\n",
    "* DB_PASSWORD: Set to `Password` by default. If it is different for your cluster, please update the file.\n"
   ]
  },
  {
   "cell_type": "code",
   "execution_count": null,
   "id": "ab131403-8ef3-40b3-9834-89969a32c8a0",
   "metadata": {
    "tags": []
   },
   "outputs": [],
   "source": [
    "# Read the Database information from .env file\n",
    "from dotenv import load_dotenv\n",
    "import os\n",
    "\n",
    "load_dotenv()  # take environment variables from .env file."
   ]
  },
  {
   "cell_type": "code",
   "execution_count": null,
   "id": "328f3c43-1f95-4d62-814b-fc374e76e0bc",
   "metadata": {
    "tags": []
   },
   "outputs": [],
   "source": [
    "DB_HOST = os.getenv(\"DB_HOST\")\n",
    "DB_USER = os.getenv(\"DB_USER\")\n",
    "DB_PASSWORD = os.getenv(\"DB_PASSWORD\")\n",
    "print(f\"Environment Settings \\n{DB_HOST=} \\n{DB_USER=} \\n{DB_PASSWORD=}\")"
   ]
  },
  {
   "cell_type": "markdown",
   "id": "48ebceed-e948-4bef-989c-a710c9ba4d41",
   "metadata": {
    "tags": []
   },
   "source": [
    "### Connecting to Couchbase Cluster\n",
    "- Connection String: `couchbase://couchbase` would connect to the Couchbase instance.\n",
    "- PasswordAuthenticator: It specifies the username & password used to access the Cluster.\n",
    "\n",
    "#### Note\n",
    "If you are running Couchbase locally on your machine via docker or installation, you can change the connection string to `couchbase://localhost` via the configuration file `.env`"
   ]
  },
  {
   "cell_type": "code",
   "execution_count": null,
   "id": "2233fa99-af78-42c3-8432-8b81080513e9",
   "metadata": {},
   "outputs": [],
   "source": [
    "import couchbase.search as search\n",
    "from couchbase.auth import PasswordAuthenticator\n",
    "from couchbase.cluster import Cluster\n",
    "from couchbase.options import ClusterOptions, SearchOptions\n",
    "from couchbase.exceptions import CouchbaseException"
   ]
  },
  {
   "cell_type": "markdown",
   "id": "8a45c18a-6bbb-4c8d-8b0d-2a4cd6cb87fc",
   "metadata": {},
   "source": [
    "### Note\n",
    "If you are running Couchbase locally on your machine via docker or installation, you can change the connection string to `couchbase://localhost`"
   ]
  },
  {
   "cell_type": "code",
   "execution_count": null,
   "id": "24fdb279-1c7e-4a63-a12f-7d1f2ecfbb4f",
   "metadata": {},
   "outputs": [],
   "source": [
    "# get a reference to our cluster\n",
    "cluster = Cluster(\n",
    "    DB_HOST,\n",
    "    ClusterOptions(PasswordAuthenticator(DB_USER, DB_PASSWORD)),\n",
    ")"
   ]
  },
  {
   "cell_type": "markdown",
   "id": "6ac8188d-213c-4e2a-a687-b43f5b00a2ca",
   "metadata": {},
   "source": [
    "## Creating FTS Index using the Web Console to search all documents in Travel-Sample \n",
    "- Go to `Search` Tab in Cluster and click on `Add Index`\n",
    "\n",
    "![Create-FTS](./img/Create-FTS.png)\n",
    "\n",
    "- Create the Index `travel-sample-search` to search across all documents in the default collection as shown in the image\n",
    "You need to do the following:\n",
    "    - Add the Index Name as `travel-sample-search`\n",
    "    - Select the Bucket as `travel-sample`\n",
    "    - In Advanced, check the box that says `Store Dynamic Fields`. It ensures inclusion of field-content in returned results.\n",
    "\n",
    "![Travel-Search-Index](./img/Travel-Search-Index.png)\n",
    "\n",
    "Building the index could take a few minutes. Until the index is completely built, you can get different results based on the current status of the index. You can try running the next cell a few times to see the changing results."
   ]
  },
  {
   "cell_type": "markdown",
   "id": "39fa6978-0c72-460a-9bdc-6f355cb56e43",
   "metadata": {},
   "source": [
    "## Querying for Documents using FTS \n",
    "Now that we have created a search index, we can use it to find documents based on search strings. You can also try changing the search strings and observe the matched documents.\n",
    "\n",
    "## Scoring \n",
    "Search result scoring occurs at a query time. The result of the search request is ordered by score (relevance), with the descending sort order unless explicitly set not to do so.\n",
    "\n",
    "Couchbase uses a slightly modified version of the standard tf-idf algorithm. This deviation is to normalize the score and is based on tf-idf algorithm.\n",
    "\n",
    "For more details on scoring, refer to the [documentation](https://docs.couchbase.com/server/current/fts/fts-scoring.html)."
   ]
  },
  {
   "cell_type": "code",
   "execution_count": null,
   "id": "7a2c70e5-fd14-4582-bab4-0b6db079571c",
   "metadata": {},
   "outputs": [],
   "source": [
    "# Search for a specified string query across all documents\n",
    "try:\n",
    "    result = cluster.search_query(\n",
    "        \"travel-sample-search\", search.QueryStringQuery(\"ibis\")\n",
    "    )\n",
    "\n",
    "    for row in result.rows():\n",
    "        print(f\"Found row: {row}\")\n",
    "\n",
    "    print(f\"Reported total rows: {result.metadata().metrics().total_rows()}\")\n",
    "\n",
    "except CouchbaseException as ex:\n",
    "    import traceback\n",
    "\n",
    "    traceback.print_exc()"
   ]
  },
  {
   "cell_type": "markdown",
   "id": "9966baaf-6ecc-4b8b-aefc-68d58bd2608a",
   "metadata": {},
   "source": [
    "## Search Returning Specified Fields\n",
    "To specify the fields of the document that you are interested in, you can set the fields attribute in`SearchOptions()`. These fields will be returned for the documents that match the search string.\n",
    "\n",
    "You can access the fields of a result using the fields attribute of the result."
   ]
  },
  {
   "cell_type": "code",
   "execution_count": null,
   "id": "ba681832-7967-49f3-bdaf-5fe1414bf0f1",
   "metadata": {},
   "outputs": [],
   "source": [
    "# Search for a specified string query across all documents returning the specified fields name and description\n",
    "try:\n",
    "    result = cluster.search_query(\n",
    "        \"travel-sample-search\",\n",
    "        search.QueryStringQuery(\"ibis\"),\n",
    "        SearchOptions(fields=[\"name\", \"description\"]),\n",
    "    )\n",
    "\n",
    "    for row in result.rows():\n",
    "        print(f\"Found row with Score: {row.score}\\n{row.fields}\")\n",
    "\n",
    "    print(f\"Reported total rows: {result.metadata().metrics().total_rows()}\")\n",
    "\n",
    "except Exception as e:\n",
    "    print(e)"
   ]
  },
  {
   "cell_type": "markdown",
   "id": "b6aabf94-5388-4e79-9267-c741816f9c96",
   "metadata": {},
   "source": [
    "## Highlight Fields matching Search Results\n",
    "It is possible to enable highlighting for matched fields. You can either rely on the default highlighting style or provide a specific one. The following snippet uses HTML formatting for two field description and name. If the search matches these fields, they will be highlighted using the `<mark> </mark>` tags. The highlighted fields can be seen in the fragments attribute of the results.\n",
    "\n",
    "This is useful for debugging or highlighting the search results on the frontend for your app."
   ]
  },
  {
   "cell_type": "code",
   "execution_count": null,
   "id": "935106c3-d508-46cf-93da-36a452bc8355",
   "metadata": {},
   "outputs": [],
   "source": [
    "try:\n",
    "    result = cluster.search_query(\n",
    "        \"travel-sample-search\",\n",
    "        search.QueryStringQuery(\"downtown\"),\n",
    "        SearchOptions(\n",
    "            highlight_style=search.HighlightStyle.Html,\n",
    "            highlight_fields=[\"description\", \"name\"],\n",
    "        ),\n",
    "    )\n",
    "    for row in result:\n",
    "        print(row.score, row.fragments)\n",
    "except Exception as e:\n",
    "    print(e)"
   ]
  },
  {
   "cell_type": "markdown",
   "id": "800046eb-7ed7-49b5-9759-30dfaea41543",
   "metadata": {},
   "source": [
    "## Search for exact Matches\n",
    "In order to search for documents with exact matches, you can use `TermQuery()` instead of `QueryStringQuery()` which we have been using so far. This will return only documents that match the exact search term. Note that these documents might not contain these exact matches in the returned fields.\n",
    "\n",
    "This is useful when you need to search for exact matches in your application."
   ]
  },
  {
   "cell_type": "code",
   "execution_count": null,
   "id": "1a58ce3d-4af5-47f3-ba1a-f5332177a539",
   "metadata": {},
   "outputs": [],
   "source": [
    "result = cluster.search_query(\n",
    "    \"travel-sample-search\",\n",
    "    search.TermQuery(\"marriot\"),\n",
    "    SearchOptions(fields=[\"name\", \"description\"]),\n",
    ")\n",
    "try:\n",
    "    for row in result:\n",
    "        print(row.score, row.fields)\n",
    "except Exception as e:\n",
    "    print(e)"
   ]
  },
  {
   "cell_type": "markdown",
   "id": "466a7e76-6bd6-4aa3-96a5-b2e3e8c11f11",
   "metadata": {},
   "source": [
    "## Search Facets\n",
    "Facets are aggregate information collected on a result set and are useful when it comes to categorization of result data. The SDK allows you to provide many different facet configurations to the Search Engine, the following example shows how to create a facet based on a term.\n",
    "\n",
    "Facets are useful in providing filters that indicate the number of documents that match the search. You can have the same term matching across different types of documents. Facets provide an aggregation of the documents that match the search term."
   ]
  },
  {
   "cell_type": "code",
   "execution_count": null,
   "id": "99888bc1-d2ca-467e-9312-78f4ee74d21d",
   "metadata": {},
   "outputs": [],
   "source": [
    "try:\n",
    "    result = cluster.search_query(\n",
    "        \"travel-sample-search\",\n",
    "        search.QueryStringQuery(\"north\"),\n",
    "        SearchOptions(\n",
    "            facets={\"types\": search.TermFacet(\"type\", 5)}, fields=[\"name\", \"type\"]\n",
    "        ),\n",
    "    )\n",
    "    for row in result:\n",
    "        print(row.fields)\n",
    "\n",
    "    # This result indicates that there are 391 records of type landmark, 150 of type hotel & 29 of type airport matching the search term\n",
    "    print(result.facets()[\"types\"].terms)\n",
    "\n",
    "except Exception as e:\n",
    "    print(e)"
   ]
  },
  {
   "cell_type": "markdown",
   "id": "6a8a775e-b17b-4621-a3ed-db05280fec14",
   "metadata": {},
   "source": [
    "## Creating an FTS Index on Specific Fields in the Database\n",
    "- Create a Quick Index from Search Menu\n",
    "![Quick-Index](./img/Quick-Index.png)\n",
    "\n",
    "- Select the configuration as defined in the image\n",
    "    - Set the name of the index as `hotel_address` \n",
    "    - Set the Keyspace as \\`travel-sample\\`.inventory.hotel\n",
    "    - In Select Fields, select `address` as the field to index. \n",
    "    - Set the type as text & check \"Include in search results\" so that the addresses are stored along with the index.\n",
    "    - Leave the rest of the default settings and click on `Add`.\n",
    "    - Create the Index by clicking on `Create Index`\n",
    "    \n",
    "![Hotels-Address-Index](./img/Hotel-Address-Index.png)"
   ]
  },
  {
   "cell_type": "markdown",
   "id": "2d29d275-a146-49e3-a9fa-b0b3fb799990",
   "metadata": {},
   "source": [
    "## Difference between Quick Index and Classic Index Editor\n",
    "If you were following the steps closely, you might have noticed that we created the Index in a different way than before. That is because we used the Quick Index Editor this time around.\n",
    "\n",
    "The classic editor is an advanced tool in which users directly configure the index mapping. The quick editor allows users to configure the mapping by working with sample documents and higher-level abstractions.\n",
    "\n",
    "The classic editor is intended for users that are already familiar with the concepts of full-text search, while the quick editor is intended for new users who are still learning about full-text search.\n",
    "\n",
    "Therefore, if you’re not sure where to start, try the Quick Editor."
   ]
  },
  {
   "cell_type": "markdown",
   "id": "b7c43195-c25f-4ff1-aa25-25558095ac11",
   "metadata": {},
   "source": [
    "Now let us try to run some queries against the hotel addresses."
   ]
  },
  {
   "cell_type": "code",
   "execution_count": null,
   "id": "8fabc175-1835-47ce-b5ca-b1e0a8ee8c4f",
   "metadata": {},
   "outputs": [],
   "source": [
    "# search for \"north\" in addresses returning the address\n",
    "result = cluster.search_query(\n",
    "    \"hotel_address\", search.TermQuery(\"north\"), SearchOptions(fields=[\"address\"])\n",
    ")\n",
    "\n",
    "for row in result.rows():\n",
    "    print(f\"Score: {row.score}, {row.fields}\")"
   ]
  },
  {
   "cell_type": "code",
   "execution_count": null,
   "id": "cfbb8057-b9c2-4b8b-8784-d9f48482f8ac",
   "metadata": {},
   "outputs": [],
   "source": [
    "# Search for \"street\" in addresses returning the address\n",
    "result = cluster.search_query(\n",
    "    \"hotel_address\",\n",
    "    search.QueryStringQuery(\"street\"),\n",
    "    SearchOptions(fields=[\"address\"]),\n",
    ")\n",
    "\n",
    "for row in result.rows():\n",
    "    print(f\"Score: {row.score}, {row.fields}\")"
   ]
  },
  {
   "cell_type": "code",
   "execution_count": null,
   "id": "a5d60d61-42e8-4780-9e8d-c4887f0d838d",
   "metadata": {},
   "outputs": [],
   "source": [
    "# Search for \"bush\" in addreses returning the address\n",
    "result = cluster.search_query(\n",
    "    \"hotel_address\", search.QueryStringQuery(\"bush\"), SearchOptions(fields=[\"address\"])\n",
    ")\n",
    "\n",
    "for row in result.rows():\n",
    "    print(row.score, row.fields)"
   ]
  },
  {
   "cell_type": "markdown",
   "id": "ca072a73-5414-4a28-92a3-17060c197c7d",
   "metadata": {},
   "source": [
    "## Example Use Case: Create an Index to Query the Hotel Reviews\n",
    "Steps to create the index\n",
    "1. On the Full Text Search UI, click “Add Index”.\n",
    "2. Specify an index name,  “hotel_reviews”, and select the travel-sample bucket. \n",
    "3. Since each document in the travel-sample bucket has a “type” field indicating the type of document, leave “JSON type field” set to “type”.\n",
    "4. Under type mappings:  \n",
    "- Click “+ Add Type Mapping”, and specify “hotel” as the type name, since the requirement is to search all hotel documents.  \n",
    "- A list of available analyzers can be accessed by means of the pull-down menu to the right of the type name field.  For this use case, leave “inherit” selected so that the type mapping inherits the default analyzer from the index. You can read more about the types of analyzers supported in Couchbase [here](https://docs.couchbase.com/server/current/fts/fts-analyzers.html).\n",
    "- Since the requirement is to search the hotel review content fields, check “only index specified fields”.  With this checked, only user-specified fields from the document are included in the index for the hotel type mapping (the mapping will not be dynamic, meaning that all fields are considered available for indexing). \n",
    "- Click OK.  \n",
    "- Mouse over the row with the hotel type mapping, click the + button, and then click “insert child mapping”.  Child mappings are used to specify a document-field whose value is a JSON object. This will allow the array of review sub-documents to be included in the index.  Enter the property name “reviews”, leave “inherit” selected in the analyzer drop-down, check “only index specified fields”, and click OK. \n",
    "- Mouse over the row with the reviews child mapping, click the + button, and then click “insert child field”.  The option insert child field allows a field to be individually included for (or excluded from) indexing, provided that it contains a single value or an array rather than a JSON object. This will allow the content field from the array of review sub-documents to be included in the index.  Specify the following: \n",
    "    - field: Enter the name of the field to be indexed, “content”.\n",
    "    - type: Leave this set to text for the content field.\n",
    "    - searchable as: Leave this the same as the field name for the current use case.  It can be used to indicate an alternate field name. \n",
    "    - analyzer: As was done for the type mapping, for this use case, leave “inherit” selected so that the type mapping inherits the default analyzer.\n",
    "    - index checkbox: Leave this checked, so that the field is included in the index.  Unchecking the box would explicitly remove the field from the index.\n",
    "    - store checkbox: Check this setting to include the field content in the search results which permits highlighting of matched expressions in the results.  This is useful for testing the index, but not recommended in production environment if highlighting isn’t required since it increases index size.\n",
    "    - “include in _all field” checkbox: Check this since the use case requirement is to search multiple fields. \n",
    "    - “include term vectors” checkbox: Check this too during development and testing of our index to allow highlighting of results.  \n",
    "    - docvalues checkbox: Uncheck this setting.  This setting stores the field values in the index which provides support for Search Facets, and for the sorting of search results based on field values, neither of which we need in this use case. \n",
    "    - Click OK.\n",
    "- Finally, uncheck the checkbox next to the “default” type mapping.  If the default mapping is left enabled, all documents in the bucket are included in the index, regardless of whether the user actively specifies type mappings. Only the hotel documents are required, and they are included by the hotel type mapping added previously. \n",
    "- Click on \"Create Index\" to create the index.\n",
    "\n",
    "![Hotel-Reviews-Index](./img/Hotel-Reviews-Index.png)"
   ]
  },
  {
   "cell_type": "code",
   "execution_count": null,
   "id": "f91dd81f-b585-4ca0-af3f-f0bf63934360",
   "metadata": {},
   "outputs": [],
   "source": [
    "# Let us try to search for reviews mentioning about breakfast\n",
    "try:\n",
    "    result = cluster.search_query(\n",
    "        \"hotel_reviews\",\n",
    "        search.QueryStringQuery(\"breakfast\"),\n",
    "        SearchOptions(fields=[\"reviews.content\"]),\n",
    "    )\n",
    "\n",
    "    for row in result.rows():\n",
    "        print(f\"Score: {row.score}\")\n",
    "        print(f\"Document Id: {row.id}\")\n",
    "        print(row.fields)\n",
    "\n",
    "except Exception as e:\n",
    "    print(e)"
   ]
  },
  {
   "cell_type": "code",
   "execution_count": null,
   "id": "9f615360-8c6b-4bba-bddc-2528da5a96d7",
   "metadata": {},
   "outputs": [],
   "source": [
    "# Let us try to search for reviews mentioning about staff\n",
    "try:\n",
    "    result = cluster.search_query(\n",
    "        \"hotel_reviews\",\n",
    "        search.QueryStringQuery(\"staff\"),\n",
    "        SearchOptions(fields=[\"reviews.content\"]),\n",
    "    )\n",
    "\n",
    "    for row in result.rows():\n",
    "        print(f\"Score: {row.score}\")\n",
    "        print(f\"Document Id: {row.id}\")\n",
    "        print(row.fields)\n",
    "\n",
    "except Exception as e:\n",
    "    print(e)"
   ]
  },
  {
   "cell_type": "markdown",
   "id": "8a944db4-30fe-457e-963f-ff638bf83f40",
   "metadata": {},
   "source": [
    "## Exercise 5.1\n",
    "1. Create an index to search for war museum in landmarks collection & highlight the matches\n",
    "2. Use the same index to find bridges\n",
    "3. Find the Youth Hostels in the travel-sample bucket"
   ]
  },
  {
   "cell_type": "markdown",
   "id": "d21270c9-9ae5-4fcd-bd38-804151ba09a0",
   "metadata": {},
   "source": [
    "## Solutions\n",
    "### Index Creation"
   ]
  },
  {
   "cell_type": "code",
   "execution_count": null,
   "id": "eabc0a0d-7cfd-4788-aefc-eb610fde4545",
   "metadata": {},
   "outputs": [],
   "source": [
    "# War Museums\n"
   ]
  },
  {
   "cell_type": "code",
   "execution_count": null,
   "id": "be62f562-d4fe-4397-90e5-a40e359a23ca",
   "metadata": {},
   "outputs": [],
   "source": [
    "# Bridges\n"
   ]
  },
  {
   "cell_type": "code",
   "execution_count": null,
   "id": "a69d189e-8e7c-4a4c-b82f-c01f8cf6c9af",
   "metadata": {},
   "outputs": [],
   "source": [
    "# Youth Hostels\n"
   ]
  },
  {
   "cell_type": "markdown",
   "id": "82c7e4c1-dd9a-4339-9d98-508cc46f9ccd",
   "metadata": {},
   "source": [
    "## References\n",
    "- [Full Text Search](https://docs.couchbase.com/server/current/fts/fts-introduction.html)\n",
    "- [Creating Full Text Search Indexes](https://docs.couchbase.com/server/current/fts/fts.html)\n",
    "- [FTS using Python SDK](https://docs.couchbase.com/python-sdk/current/howtos/full-text-searching-with-sdk.html)"
   ]
  }
 ],
 "metadata": {
  "kernelspec": {
   "display_name": "Python 3 (ipykernel)",
   "language": "python",
   "name": "python3"
  },
  "language_info": {
   "codemirror_mode": {
    "name": "ipython",
    "version": 3
   },
   "file_extension": ".py",
   "mimetype": "text/x-python",
   "name": "python",
   "nbconvert_exporter": "python",
   "pygments_lexer": "ipython3",
   "version": "3.11.6"
  }
 },
 "nbformat": 4,
 "nbformat_minor": 5
}
